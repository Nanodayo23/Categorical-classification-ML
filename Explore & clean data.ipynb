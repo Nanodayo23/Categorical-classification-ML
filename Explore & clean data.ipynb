{
 "cells": [
  {
   "cell_type": "markdown",
   "metadata": {},
   "source": [
    "### Read in Data"
   ]
  },
  {
   "cell_type": "code",
   "execution_count": 171,
   "metadata": {},
   "outputs": [
    {
     "data": {
      "text/html": [
       "<div>\n",
       "<style scoped>\n",
       "    .dataframe tbody tr th:only-of-type {\n",
       "        vertical-align: middle;\n",
       "    }\n",
       "\n",
       "    .dataframe tbody tr th {\n",
       "        vertical-align: top;\n",
       "    }\n",
       "\n",
       "    .dataframe thead th {\n",
       "        text-align: right;\n",
       "    }\n",
       "</style>\n",
       "<table border=\"1\" class=\"dataframe\">\n",
       "  <thead>\n",
       "    <tr style=\"text-align: right;\">\n",
       "      <th></th>\n",
       "      <th>year</th>\n",
       "      <th>sample</th>\n",
       "      <th>serial</th>\n",
       "      <th>hhwt</th>\n",
       "      <th>cluster</th>\n",
       "      <th>perwt</th>\n",
       "      <th>nchild</th>\n",
       "      <th>nchild_under_5</th>\n",
       "      <th>nsibs</th>\n",
       "      <th>eldch</th>\n",
       "      <th>sex</th>\n",
       "      <th>age</th>\n",
       "      <th>birthyr</th>\n",
       "      <th>race</th>\n",
       "      <th>educ</th>\n",
       "      <th>ed_var_detailed</th>\n",
       "      <th>occ</th>\n",
       "      <th>occ1950</th>\n",
       "      <th>ed_group_h</th>\n",
       "    </tr>\n",
       "  </thead>\n",
       "  <tbody>\n",
       "    <tr>\n",
       "      <th>0</th>\n",
       "      <td>1960</td>\n",
       "      <td>1960 5%</td>\n",
       "      <td>69847</td>\n",
       "      <td>20</td>\n",
       "      <td>1.960000e+12</td>\n",
       "      <td>20</td>\n",
       "      <td>0 children present</td>\n",
       "      <td>No children under age 5</td>\n",
       "      <td>0 siblings</td>\n",
       "      <td>NaN</td>\n",
       "      <td>Male</td>\n",
       "      <td>43</td>\n",
       "      <td>1916</td>\n",
       "      <td>White</td>\n",
       "      <td>Grade 5, 6, 7, or 8</td>\n",
       "      <td>Grade 8</td>\n",
       "      <td>775</td>\n",
       "      <td>Operative and kindred workers (nec)</td>\n",
       "      <td>1</td>\n",
       "    </tr>\n",
       "    <tr>\n",
       "      <th>1</th>\n",
       "      <td>1960</td>\n",
       "      <td>1960 5%</td>\n",
       "      <td>2619724</td>\n",
       "      <td>20</td>\n",
       "      <td>1.960030e+12</td>\n",
       "      <td>20</td>\n",
       "      <td>0 children present</td>\n",
       "      <td>No children under age 5</td>\n",
       "      <td>0 siblings</td>\n",
       "      <td>NaN</td>\n",
       "      <td>Male</td>\n",
       "      <td>28</td>\n",
       "      <td>1931</td>\n",
       "      <td>White</td>\n",
       "      <td>Grade 12</td>\n",
       "      <td>Grade 12</td>\n",
       "      <td>290</td>\n",
       "      <td>Managers, officials, and proprietors (nec)</td>\n",
       "      <td>2</td>\n",
       "    </tr>\n",
       "    <tr>\n",
       "      <th>2</th>\n",
       "      <td>1960</td>\n",
       "      <td>1960 5%</td>\n",
       "      <td>2283283</td>\n",
       "      <td>20</td>\n",
       "      <td>1.960020e+12</td>\n",
       "      <td>20</td>\n",
       "      <td>3</td>\n",
       "      <td>No children under age 5</td>\n",
       "      <td>0 siblings</td>\n",
       "      <td>15</td>\n",
       "      <td>Male</td>\n",
       "      <td>36</td>\n",
       "      <td>1923</td>\n",
       "      <td>White</td>\n",
       "      <td>Grade 10</td>\n",
       "      <td>Grade 10</td>\n",
       "      <td>430</td>\n",
       "      <td>Foremen (nec)</td>\n",
       "      <td>1</td>\n",
       "    </tr>\n",
       "    <tr>\n",
       "      <th>3</th>\n",
       "      <td>1960</td>\n",
       "      <td>1960 5%</td>\n",
       "      <td>2367708</td>\n",
       "      <td>20</td>\n",
       "      <td>1.960020e+12</td>\n",
       "      <td>20</td>\n",
       "      <td>0 children present</td>\n",
       "      <td>No children under age 5</td>\n",
       "      <td>0 siblings</td>\n",
       "      <td>NaN</td>\n",
       "      <td>Male</td>\n",
       "      <td>48</td>\n",
       "      <td>1912</td>\n",
       "      <td>White</td>\n",
       "      <td>Nursery school to grade 4</td>\n",
       "      <td>Grade 3</td>\n",
       "      <td>290</td>\n",
       "      <td>Managers, officials, and proprietors (nec)</td>\n",
       "      <td>1</td>\n",
       "    </tr>\n",
       "    <tr>\n",
       "      <th>4</th>\n",
       "      <td>1960</td>\n",
       "      <td>1960 5%</td>\n",
       "      <td>508827</td>\n",
       "      <td>20</td>\n",
       "      <td>1.960010e+12</td>\n",
       "      <td>20</td>\n",
       "      <td>2</td>\n",
       "      <td>2</td>\n",
       "      <td>0 siblings</td>\n",
       "      <td>2</td>\n",
       "      <td>Male</td>\n",
       "      <td>27</td>\n",
       "      <td>1932</td>\n",
       "      <td>White</td>\n",
       "      <td>Grade 11</td>\n",
       "      <td>Grade 11</td>\n",
       "      <td>394</td>\n",
       "      <td>Salesmen and sales clerks (nec)</td>\n",
       "      <td>1</td>\n",
       "    </tr>\n",
       "  </tbody>\n",
       "</table>\n",
       "</div>"
      ],
      "text/plain": [
       "   year   sample   serial  hhwt       cluster  perwt              nchild  \\\n",
       "0  1960  1960 5%    69847    20  1.960000e+12     20  0 children present   \n",
       "1  1960  1960 5%  2619724    20  1.960030e+12     20  0 children present   \n",
       "2  1960  1960 5%  2283283    20  1.960020e+12     20                   3   \n",
       "3  1960  1960 5%  2367708    20  1.960020e+12     20  0 children present   \n",
       "4  1960  1960 5%   508827    20  1.960010e+12     20                   2   \n",
       "\n",
       "            nchild_under_5       nsibs eldch   sex age  birthyr   race  \\\n",
       "0  No children under age 5  0 siblings   NaN  Male  43     1916  White   \n",
       "1  No children under age 5  0 siblings   NaN  Male  28     1931  White   \n",
       "2  No children under age 5  0 siblings    15  Male  36     1923  White   \n",
       "3  No children under age 5  0 siblings   NaN  Male  48     1912  White   \n",
       "4                        2  0 siblings     2  Male  27     1932  White   \n",
       "\n",
       "                        educ ed_var_detailed  occ  \\\n",
       "0        Grade 5, 6, 7, or 8         Grade 8  775   \n",
       "1                   Grade 12        Grade 12  290   \n",
       "2                   Grade 10        Grade 10  430   \n",
       "3  Nursery school to grade 4         Grade 3  290   \n",
       "4                   Grade 11        Grade 11  394   \n",
       "\n",
       "                                      occ1950  ed_group_h  \n",
       "0         Operative and kindred workers (nec)           1  \n",
       "1  Managers, officials, and proprietors (nec)           2  \n",
       "2                               Foremen (nec)           1  \n",
       "3  Managers, officials, and proprietors (nec)           1  \n",
       "4             Salesmen and sales clerks (nec)           1  "
      ]
     },
     "execution_count": 171,
     "metadata": {},
     "output_type": "execute_result"
    }
   ],
   "source": [
    "import numpy as np\n",
    "import pandas as pd\n",
    "from sklearn.model_selection import train_test_split\n",
    "from sklearn.preprocessing import StandardScaler\n",
    "from sklearn.ensemble import RandomForestClassifier\n",
    "from sklearn.metrics import confusion_matrix\n",
    "from sklearn.externals import joblib\n",
    "import seaborn as sns\n",
    "import math\n",
    "import sys\n",
    "%matplotlib inline\n",
    "\n",
    "census = pd.read_csv('./census_ml.csv')\n",
    "census.head()"
   ]
  },
  {
   "cell_type": "markdown",
   "metadata": {},
   "source": [
    "### Clean continuous variables"
   ]
  },
  {
   "cell_type": "code",
   "execution_count": 172,
   "metadata": {},
   "outputs": [
    {
     "data": {
      "text/plain": [
       "year                   0\n",
       "sample                 0\n",
       "serial                 0\n",
       "hhwt                   0\n",
       "cluster                0\n",
       "perwt                  0\n",
       "nchild                 0\n",
       "nchild_under_5         0\n",
       "nsibs                  0\n",
       "eldch              78438\n",
       "sex                    0\n",
       "age                    0\n",
       "birthyr                0\n",
       "race                   0\n",
       "educ                   0\n",
       "ed_var_detailed        0\n",
       "occ                    0\n",
       "occ1950                0\n",
       "ed_group_h             0\n",
       "dtype: int64"
      ]
     },
     "execution_count": 172,
     "metadata": {},
     "output_type": "execute_result"
    }
   ],
   "source": [
    "census.isnull().sum()"
   ]
  },
  {
   "cell_type": "markdown",
   "metadata": {},
   "source": [
    "#### Cleaning census['eldch']"
   ]
  },
  {
   "cell_type": "code",
   "execution_count": 173,
   "metadata": {},
   "outputs": [
    {
     "data": {
      "text/plain": [
       "array([nan, '15', '2', '21', '12', '13', '11', '29', '17', '16', '14',\n",
       "       'Less than 1 year old', '38', '8', '3', '10', '1', '5', '6', '9',\n",
       "       '31', '4', '26', '24', '23', '19', '7', '22', '18', '55', '20',\n",
       "       '27', '53', '35', '34', '37', '28', '36', '25', '60', '33', '52',\n",
       "       '68', '39', '49', '32', '50', '56', '30', '41', '57', '44', '47',\n",
       "       '42', '48', '46', '51', '43', '74', '54', '40', '72', '45', '71',\n",
       "       '59', '66', '62', '58', '65', '63', '61', '73', '69', '64', '70',\n",
       "       '67', '87'], dtype=object)"
      ]
     },
     "execution_count": 173,
     "metadata": {},
     "output_type": "execute_result"
    }
   ],
   "source": [
    "census['eldch'].unique()"
   ]
  },
  {
   "cell_type": "code",
   "execution_count": 174,
   "metadata": {},
   "outputs": [],
   "source": [
    "census['eldch'] = np.where((census['eldch'] == 'Less than 1 year old'),\n",
    "                           0, census['eldch'])"
   ]
  },
  {
   "cell_type": "code",
   "execution_count": 175,
   "metadata": {},
   "outputs": [],
   "source": [
    "census[\"eldch\"].fillna(0, inplace = True) \n"
   ]
  },
  {
   "cell_type": "code",
   "execution_count": 176,
   "metadata": {},
   "outputs": [
    {
     "name": "stdout",
     "output_type": "stream",
     "text": [
      "<class 'str'>\n"
     ]
    }
   ],
   "source": [
    "census['eldch'][2]\n",
    "print(type(census['eldch'][2]))"
   ]
  },
  {
   "cell_type": "code",
   "execution_count": 177,
   "metadata": {},
   "outputs": [
    {
     "name": "stdout",
     "output_type": "stream",
     "text": [
      "0\n",
      "1\n",
      "2\n",
      "3\n",
      "4\n",
      "5\n",
      "6\n",
      "7\n",
      "8\n",
      "9\n",
      "10\n",
      "11\n",
      "12\n",
      "13\n",
      "14\n",
      "15\n",
      "16\n",
      "17\n",
      "18\n",
      "19\n",
      "20\n",
      "21\n",
      "22\n",
      "23\n",
      "24\n",
      "25\n",
      "26\n",
      "27\n",
      "28\n",
      "29\n",
      "30\n",
      "31\n",
      "32\n",
      "33\n",
      "34\n",
      "35\n",
      "36\n",
      "37\n",
      "38\n",
      "39\n",
      "40\n",
      "41\n",
      "42\n",
      "43\n",
      "44\n",
      "45\n",
      "46\n",
      "47\n",
      "48\n",
      "49\n",
      "50\n",
      "51\n",
      "52\n",
      "53\n",
      "54\n",
      "55\n",
      "56\n",
      "57\n",
      "58\n",
      "59\n",
      "60\n",
      "61\n",
      "62\n",
      "63\n",
      "64\n",
      "65\n",
      "66\n",
      "67\n",
      "68\n",
      "69\n",
      "70\n",
      "71\n",
      "72\n",
      "73\n",
      "74\n",
      "75\n",
      "76\n",
      "77\n",
      "78\n",
      "79\n",
      "80\n",
      "81\n",
      "82\n",
      "83\n",
      "84\n",
      "85\n",
      "86\n",
      "87\n"
     ]
    }
   ],
   "source": [
    "for i in range(88):\n",
    "    census['eldch'] = np.where((census['eldch'] == str(i)),\n",
    "                           int(i), census['eldch'])\n",
    "    print(i)"
   ]
  },
  {
   "cell_type": "code",
   "execution_count": 178,
   "metadata": {},
   "outputs": [
    {
     "data": {
      "text/plain": [
       "15"
      ]
     },
     "execution_count": 178,
     "metadata": {},
     "output_type": "execute_result"
    }
   ],
   "source": [
    "census['eldch'][2]\n",
    "#print(type(census['eldch'][2]))"
   ]
  },
  {
   "cell_type": "markdown",
   "metadata": {},
   "source": [
    "#### Cleaning census['nchild]"
   ]
  },
  {
   "cell_type": "code",
   "execution_count": 179,
   "metadata": {},
   "outputs": [
    {
     "data": {
      "text/plain": [
       "array(['0 children present', '3', '2', '4', '5', '1 child present', '6',\n",
       "       '7', '9+', '8'], dtype=object)"
      ]
     },
     "execution_count": 179,
     "metadata": {},
     "output_type": "execute_result"
    }
   ],
   "source": [
    "census['nchild'].unique()"
   ]
  },
  {
   "cell_type": "code",
   "execution_count": 180,
   "metadata": {},
   "outputs": [],
   "source": [
    "census['nchild'] = np.where((census['nchild'] == '0 children present'),\n",
    "                           0, census['nchild'])"
   ]
  },
  {
   "cell_type": "code",
   "execution_count": 181,
   "metadata": {},
   "outputs": [],
   "source": [
    "census['nchild'] = np.where((census['nchild'] == '1 child present'),\n",
    "                           1, census['nchild'])"
   ]
  },
  {
   "cell_type": "code",
   "execution_count": 182,
   "metadata": {},
   "outputs": [],
   "source": [
    "census['nchild'] = np.where((census['nchild'] == '9+'),\n",
    "                           11, census['nchild'])"
   ]
  },
  {
   "cell_type": "code",
   "execution_count": 183,
   "metadata": {},
   "outputs": [
    {
     "name": "stdout",
     "output_type": "stream",
     "text": [
      "0\n",
      "1\n",
      "2\n",
      "3\n",
      "4\n",
      "5\n",
      "6\n",
      "7\n",
      "8\n",
      "9\n",
      "10\n",
      "11\n"
     ]
    }
   ],
   "source": [
    "for i in range(12):\n",
    "    census['nchild'] = np.where((census['nchild'] == str(i)),\n",
    "                           int(i), census['nchild'])\n",
    "    print(i)"
   ]
  },
  {
   "cell_type": "markdown",
   "metadata": {},
   "source": [
    "#### Cleaning census['nchild_under_5']"
   ]
  },
  {
   "cell_type": "code",
   "execution_count": 184,
   "metadata": {},
   "outputs": [
    {
     "data": {
      "text/plain": [
       "array(['No children under age 5', '2', '1 child under age 5', '3', '4',\n",
       "       '5', '6'], dtype=object)"
      ]
     },
     "execution_count": 184,
     "metadata": {},
     "output_type": "execute_result"
    }
   ],
   "source": [
    "census['nchild_under_5'].unique()"
   ]
  },
  {
   "cell_type": "code",
   "execution_count": 185,
   "metadata": {},
   "outputs": [],
   "source": [
    "census['nchild_under_5'] = np.where((census['nchild_under_5'] == 'No children under age 5'),\n",
    "                           0, census['nchild_under_5'])\n",
    "\n",
    "census['nchild_under_5'] = np.where((census['nchild_under_5'] == '1 child under age 5'),\n",
    "                           1, census['nchild_under_5'])"
   ]
  },
  {
   "cell_type": "code",
   "execution_count": 186,
   "metadata": {},
   "outputs": [
    {
     "name": "stdout",
     "output_type": "stream",
     "text": [
      "0\n",
      "1\n",
      "2\n",
      "3\n",
      "4\n",
      "5\n",
      "6\n"
     ]
    }
   ],
   "source": [
    "for i in range(7):\n",
    "    census['nchild_under_5'] = np.where((census['nchild_under_5'] == str(i)),\n",
    "                           int(i), census['nchild_under_5'])\n",
    "    print(i)"
   ]
  },
  {
   "cell_type": "markdown",
   "metadata": {},
   "source": [
    "#### Cleaning census['nsibs']"
   ]
  },
  {
   "cell_type": "code",
   "execution_count": 187,
   "metadata": {},
   "outputs": [
    {
     "data": {
      "text/plain": [
       "array(['0 siblings', '1 sibling', '4 siblings', '2 siblings',\n",
       "       '3 siblings', '5 siblings', '6 siblings'], dtype=object)"
      ]
     },
     "execution_count": 187,
     "metadata": {},
     "output_type": "execute_result"
    }
   ],
   "source": [
    "census['nsibs'].unique()"
   ]
  },
  {
   "cell_type": "code",
   "execution_count": 188,
   "metadata": {},
   "outputs": [],
   "source": [
    "census['nsibs'] = np.where((census['nsibs'] == '1 sibling'),\n",
    "                           '1 siblings', census['nsibs'])"
   ]
  },
  {
   "cell_type": "code",
   "execution_count": 189,
   "metadata": {},
   "outputs": [
    {
     "name": "stdout",
     "output_type": "stream",
     "text": [
      "0\n",
      "1\n",
      "2\n",
      "3\n",
      "4\n",
      "5\n",
      "6\n"
     ]
    }
   ],
   "source": [
    "for i in range(7):\n",
    "    census['nsibs'] = np.where((census['nsibs'] == (str(i) + ' siblings')),\n",
    "                           int(i), census['nsibs'])\n",
    "    print(i)"
   ]
  },
  {
   "cell_type": "markdown",
   "metadata": {},
   "source": [
    "#### Cleaning census['age']"
   ]
  },
  {
   "cell_type": "code",
   "execution_count": 190,
   "metadata": {},
   "outputs": [
    {
     "data": {
      "text/plain": [
       "array(['43', '28', '36', '48', '27', '60', '63', '69', '44', '54', '73',\n",
       "       '55', '47', '53', '39', '40', '41', '35', '64', '42', '50', '23',\n",
       "       '38', '57', '46', '31', '76', '70', '32', '22', '25', '45', '30',\n",
       "       '65', '52', '49', '67', '26', '37', '58', '77', '62', '61', '78',\n",
       "       '33', '34', '56', '51', '74', '59', '79', '24', '82', '81', '29',\n",
       "       '20', '66', '68', '72', '71', '75', '85', '21', '93', '19', '80',\n",
       "       '88', '84', '90 (90+ in 1980 and 1990)', '18', '83', '86', '87',\n",
       "       '17', '91', '16', '92', '94', '15', '98', '89', '14',\n",
       "       '100 (100+ in 1960-1970)', '95', '97', '96', '99'], dtype=object)"
      ]
     },
     "execution_count": 190,
     "metadata": {},
     "output_type": "execute_result"
    }
   ],
   "source": [
    "census['age'].unique()"
   ]
  },
  {
   "cell_type": "code",
   "execution_count": 191,
   "metadata": {},
   "outputs": [],
   "source": [
    "census['age'] = np.where((census['age'] == \"90 (90+ in 1980 and 1990)\"),\n",
    "                           '90', census['age'])\n",
    "\n",
    "census['age'] = np.where((census['age'] == \"100 (100+ in 1960-1970)\"),\n",
    "                           '100', census['age'])"
   ]
  },
  {
   "cell_type": "code",
   "execution_count": 192,
   "metadata": {},
   "outputs": [
    {
     "name": "stdout",
     "output_type": "stream",
     "text": [
      "0\n",
      "1\n",
      "2\n",
      "3\n",
      "4\n",
      "5\n",
      "6\n",
      "7\n",
      "8\n",
      "9\n",
      "10\n",
      "11\n",
      "12\n",
      "13\n",
      "14\n",
      "15\n",
      "16\n",
      "17\n",
      "18\n",
      "19\n",
      "20\n",
      "21\n",
      "22\n",
      "23\n",
      "24\n",
      "25\n",
      "26\n",
      "27\n",
      "28\n",
      "29\n",
      "30\n",
      "31\n",
      "32\n",
      "33\n",
      "34\n",
      "35\n",
      "36\n",
      "37\n",
      "38\n",
      "39\n",
      "40\n",
      "41\n",
      "42\n",
      "43\n",
      "44\n",
      "45\n",
      "46\n",
      "47\n",
      "48\n",
      "49\n",
      "50\n",
      "51\n",
      "52\n",
      "53\n",
      "54\n",
      "55\n",
      "56\n",
      "57\n",
      "58\n",
      "59\n",
      "60\n",
      "61\n",
      "62\n",
      "63\n",
      "64\n",
      "65\n",
      "66\n",
      "67\n",
      "68\n",
      "69\n",
      "70\n",
      "71\n",
      "72\n",
      "73\n",
      "74\n",
      "75\n",
      "76\n",
      "77\n",
      "78\n",
      "79\n",
      "80\n",
      "81\n",
      "82\n",
      "83\n",
      "84\n",
      "85\n",
      "86\n",
      "87\n",
      "88\n",
      "89\n",
      "90\n",
      "91\n",
      "92\n",
      "93\n",
      "94\n",
      "95\n",
      "96\n",
      "97\n",
      "98\n",
      "99\n",
      "100\n"
     ]
    }
   ],
   "source": [
    "for i in range(101):\n",
    "    census['age'] = np.where((census['age'] == str(i)),\n",
    "                           int(i), census['age'])\n",
    "    print(i)"
   ]
  },
  {
   "cell_type": "markdown",
   "metadata": {},
   "source": [
    "#### Drop unnnecessary variables"
   ]
  },
  {
   "cell_type": "code",
   "execution_count": 193,
   "metadata": {},
   "outputs": [],
   "source": [
    "census.drop(['year', 'sample', 'serial', 'hhwt', 'cluster', 'perwt', 'birthyr', 'occ', 'educ', 'race','ed_var_detailed'], axis=1, inplace=True)"
   ]
  },
  {
   "cell_type": "code",
   "execution_count": 194,
   "metadata": {},
   "outputs": [
    {
     "data": {
      "text/html": [
       "<div>\n",
       "<style scoped>\n",
       "    .dataframe tbody tr th:only-of-type {\n",
       "        vertical-align: middle;\n",
       "    }\n",
       "\n",
       "    .dataframe tbody tr th {\n",
       "        vertical-align: top;\n",
       "    }\n",
       "\n",
       "    .dataframe thead th {\n",
       "        text-align: right;\n",
       "    }\n",
       "</style>\n",
       "<table border=\"1\" class=\"dataframe\">\n",
       "  <thead>\n",
       "    <tr style=\"text-align: right;\">\n",
       "      <th></th>\n",
       "      <th>nchild</th>\n",
       "      <th>nchild_under_5</th>\n",
       "      <th>nsibs</th>\n",
       "      <th>eldch</th>\n",
       "      <th>sex</th>\n",
       "      <th>age</th>\n",
       "      <th>occ1950</th>\n",
       "      <th>ed_group_h</th>\n",
       "    </tr>\n",
       "  </thead>\n",
       "  <tbody>\n",
       "    <tr>\n",
       "      <th>0</th>\n",
       "      <td>0</td>\n",
       "      <td>0</td>\n",
       "      <td>0</td>\n",
       "      <td>0</td>\n",
       "      <td>Male</td>\n",
       "      <td>43</td>\n",
       "      <td>Operative and kindred workers (nec)</td>\n",
       "      <td>1</td>\n",
       "    </tr>\n",
       "    <tr>\n",
       "      <th>1</th>\n",
       "      <td>0</td>\n",
       "      <td>0</td>\n",
       "      <td>0</td>\n",
       "      <td>0</td>\n",
       "      <td>Male</td>\n",
       "      <td>28</td>\n",
       "      <td>Managers, officials, and proprietors (nec)</td>\n",
       "      <td>2</td>\n",
       "    </tr>\n",
       "    <tr>\n",
       "      <th>2</th>\n",
       "      <td>3</td>\n",
       "      <td>0</td>\n",
       "      <td>0</td>\n",
       "      <td>15</td>\n",
       "      <td>Male</td>\n",
       "      <td>36</td>\n",
       "      <td>Foremen (nec)</td>\n",
       "      <td>1</td>\n",
       "    </tr>\n",
       "    <tr>\n",
       "      <th>3</th>\n",
       "      <td>0</td>\n",
       "      <td>0</td>\n",
       "      <td>0</td>\n",
       "      <td>0</td>\n",
       "      <td>Male</td>\n",
       "      <td>48</td>\n",
       "      <td>Managers, officials, and proprietors (nec)</td>\n",
       "      <td>1</td>\n",
       "    </tr>\n",
       "    <tr>\n",
       "      <th>4</th>\n",
       "      <td>2</td>\n",
       "      <td>2</td>\n",
       "      <td>0</td>\n",
       "      <td>2</td>\n",
       "      <td>Male</td>\n",
       "      <td>27</td>\n",
       "      <td>Salesmen and sales clerks (nec)</td>\n",
       "      <td>1</td>\n",
       "    </tr>\n",
       "  </tbody>\n",
       "</table>\n",
       "</div>"
      ],
      "text/plain": [
       "  nchild nchild_under_5 nsibs eldch   sex age  \\\n",
       "0      0              0     0     0  Male  43   \n",
       "1      0              0     0     0  Male  28   \n",
       "2      3              0     0    15  Male  36   \n",
       "3      0              0     0     0  Male  48   \n",
       "4      2              2     0     2  Male  27   \n",
       "\n",
       "                                      occ1950  ed_group_h  \n",
       "0         Operative and kindred workers (nec)           1  \n",
       "1  Managers, officials, and proprietors (nec)           2  \n",
       "2                               Foremen (nec)           1  \n",
       "3  Managers, officials, and proprietors (nec)           1  \n",
       "4             Salesmen and sales clerks (nec)           1  "
      ]
     },
     "execution_count": 194,
     "metadata": {},
     "output_type": "execute_result"
    }
   ],
   "source": [
    "census.head(5)"
   ]
  },
  {
   "cell_type": "code",
   "execution_count": 195,
   "metadata": {},
   "outputs": [],
   "source": [
    "census['occ1950'] = np.where((census['occ1950'] == 'N/A (blank)'),\n",
    "                           float('nan'), census['occ1950'])\n",
    "\n",
    "census['occ1950'] = np.where((census['occ1950'] == 'Occupation missing/unknown'),\n",
    "                           float('nan'), census['occ1950'])"
   ]
  },
  {
   "cell_type": "code",
   "execution_count": 196,
   "metadata": {},
   "outputs": [
    {
     "data": {
      "text/plain": [
       "Managers, officials, and proprietors (nec)          20008\n",
       "Operative and kindred workers (nec)                 18036\n",
       "Farmers (owners and tenants)                        11413\n",
       "Salesmen and sales clerks (nec)                      9966\n",
       "Laborers (nec)                                       8336\n",
       "                                                    ...  \n",
       "Statistics-Professors and instructors                   2\n",
       "Auto mechanics apprentice                               2\n",
       "Milliners                                               1\n",
       "Nurses, student professional                            1\n",
       "Natural science (nec)-Professors and instructors        1\n",
       "Name: occ1950, Length: 268, dtype: int64"
      ]
     },
     "execution_count": 196,
     "metadata": {},
     "output_type": "execute_result"
    }
   ],
   "source": [
    "census['occ1950'].value_counts()"
   ]
  },
  {
   "cell_type": "code",
   "execution_count": 197,
   "metadata": {},
   "outputs": [],
   "source": [
    "census = census.dropna()"
   ]
  },
  {
   "cell_type": "code",
   "execution_count": 198,
   "metadata": {},
   "outputs": [
    {
     "data": {
      "text/plain": [
       "nchild            0\n",
       "nchild_under_5    0\n",
       "nsibs             0\n",
       "eldch             0\n",
       "sex               0\n",
       "age               0\n",
       "occ1950           0\n",
       "ed_group_h        0\n",
       "dtype: int64"
      ]
     },
     "execution_count": 198,
     "metadata": {},
     "output_type": "execute_result"
    }
   ],
   "source": [
    "census.isnull().sum()"
   ]
  },
  {
   "cell_type": "code",
   "execution_count": 199,
   "metadata": {},
   "outputs": [
    {
     "data": {
      "text/html": [
       "<div>\n",
       "<style scoped>\n",
       "    .dataframe tbody tr th:only-of-type {\n",
       "        vertical-align: middle;\n",
       "    }\n",
       "\n",
       "    .dataframe tbody tr th {\n",
       "        vertical-align: top;\n",
       "    }\n",
       "\n",
       "    .dataframe thead th {\n",
       "        text-align: right;\n",
       "    }\n",
       "</style>\n",
       "<table border=\"1\" class=\"dataframe\">\n",
       "  <thead>\n",
       "    <tr style=\"text-align: right;\">\n",
       "      <th></th>\n",
       "      <th>nchild</th>\n",
       "      <th>nchild_under_5</th>\n",
       "      <th>nsibs</th>\n",
       "      <th>eldch</th>\n",
       "      <th>sex</th>\n",
       "      <th>age</th>\n",
       "      <th>occ1950</th>\n",
       "      <th>ed_group_h</th>\n",
       "    </tr>\n",
       "  </thead>\n",
       "  <tbody>\n",
       "    <tr>\n",
       "      <th>0</th>\n",
       "      <td>0</td>\n",
       "      <td>0</td>\n",
       "      <td>0</td>\n",
       "      <td>0</td>\n",
       "      <td>Male</td>\n",
       "      <td>43</td>\n",
       "      <td>Operative and kindred workers (nec)</td>\n",
       "      <td>1</td>\n",
       "    </tr>\n",
       "    <tr>\n",
       "      <th>1</th>\n",
       "      <td>0</td>\n",
       "      <td>0</td>\n",
       "      <td>0</td>\n",
       "      <td>0</td>\n",
       "      <td>Male</td>\n",
       "      <td>28</td>\n",
       "      <td>Managers, officials, and proprietors (nec)</td>\n",
       "      <td>2</td>\n",
       "    </tr>\n",
       "    <tr>\n",
       "      <th>2</th>\n",
       "      <td>3</td>\n",
       "      <td>0</td>\n",
       "      <td>0</td>\n",
       "      <td>15</td>\n",
       "      <td>Male</td>\n",
       "      <td>36</td>\n",
       "      <td>Foremen (nec)</td>\n",
       "      <td>1</td>\n",
       "    </tr>\n",
       "    <tr>\n",
       "      <th>3</th>\n",
       "      <td>0</td>\n",
       "      <td>0</td>\n",
       "      <td>0</td>\n",
       "      <td>0</td>\n",
       "      <td>Male</td>\n",
       "      <td>48</td>\n",
       "      <td>Managers, officials, and proprietors (nec)</td>\n",
       "      <td>1</td>\n",
       "    </tr>\n",
       "    <tr>\n",
       "      <th>4</th>\n",
       "      <td>2</td>\n",
       "      <td>2</td>\n",
       "      <td>0</td>\n",
       "      <td>2</td>\n",
       "      <td>Male</td>\n",
       "      <td>27</td>\n",
       "      <td>Salesmen and sales clerks (nec)</td>\n",
       "      <td>1</td>\n",
       "    </tr>\n",
       "  </tbody>\n",
       "</table>\n",
       "</div>"
      ],
      "text/plain": [
       "  nchild nchild_under_5 nsibs eldch   sex age  \\\n",
       "0      0              0     0     0  Male  43   \n",
       "1      0              0     0     0  Male  28   \n",
       "2      3              0     0    15  Male  36   \n",
       "3      0              0     0     0  Male  48   \n",
       "4      2              2     0     2  Male  27   \n",
       "\n",
       "                                      occ1950  ed_group_h  \n",
       "0         Operative and kindred workers (nec)           1  \n",
       "1  Managers, officials, and proprietors (nec)           2  \n",
       "2                               Foremen (nec)           1  \n",
       "3  Managers, officials, and proprietors (nec)           1  \n",
       "4             Salesmen and sales clerks (nec)           1  "
      ]
     },
     "execution_count": 199,
     "metadata": {},
     "output_type": "execute_result"
    }
   ],
   "source": [
    "census.head(5)"
   ]
  },
  {
   "cell_type": "code",
   "execution_count": 200,
   "metadata": {},
   "outputs": [
    {
     "data": {
      "text/html": [
       "<div>\n",
       "<style scoped>\n",
       "    .dataframe tbody tr th:only-of-type {\n",
       "        vertical-align: middle;\n",
       "    }\n",
       "\n",
       "    .dataframe tbody tr th {\n",
       "        vertical-align: top;\n",
       "    }\n",
       "\n",
       "    .dataframe thead th {\n",
       "        text-align: right;\n",
       "    }\n",
       "</style>\n",
       "<table border=\"1\" class=\"dataframe\">\n",
       "  <thead>\n",
       "    <tr style=\"text-align: right;\">\n",
       "      <th></th>\n",
       "      <th>nchild</th>\n",
       "      <th>nchild_under_5</th>\n",
       "      <th>nsibs</th>\n",
       "      <th>eldch</th>\n",
       "      <th>sex</th>\n",
       "      <th>age</th>\n",
       "      <th>occ1950</th>\n",
       "      <th>ed_group_h</th>\n",
       "    </tr>\n",
       "  </thead>\n",
       "  <tbody>\n",
       "    <tr>\n",
       "      <th>0</th>\n",
       "      <td>0</td>\n",
       "      <td>0</td>\n",
       "      <td>0</td>\n",
       "      <td>0</td>\n",
       "      <td>Male</td>\n",
       "      <td>43</td>\n",
       "      <td>Operative and kindred workers (nec)</td>\n",
       "      <td>1</td>\n",
       "    </tr>\n",
       "    <tr>\n",
       "      <th>1</th>\n",
       "      <td>0</td>\n",
       "      <td>0</td>\n",
       "      <td>0</td>\n",
       "      <td>0</td>\n",
       "      <td>Male</td>\n",
       "      <td>28</td>\n",
       "      <td>Managers, officials, and proprietors (nec)</td>\n",
       "      <td>2</td>\n",
       "    </tr>\n",
       "    <tr>\n",
       "      <th>2</th>\n",
       "      <td>3</td>\n",
       "      <td>0</td>\n",
       "      <td>0</td>\n",
       "      <td>15</td>\n",
       "      <td>Male</td>\n",
       "      <td>36</td>\n",
       "      <td>Foremen (nec)</td>\n",
       "      <td>1</td>\n",
       "    </tr>\n",
       "    <tr>\n",
       "      <th>3</th>\n",
       "      <td>0</td>\n",
       "      <td>0</td>\n",
       "      <td>0</td>\n",
       "      <td>0</td>\n",
       "      <td>Male</td>\n",
       "      <td>48</td>\n",
       "      <td>Managers, officials, and proprietors (nec)</td>\n",
       "      <td>1</td>\n",
       "    </tr>\n",
       "    <tr>\n",
       "      <th>4</th>\n",
       "      <td>2</td>\n",
       "      <td>2</td>\n",
       "      <td>0</td>\n",
       "      <td>2</td>\n",
       "      <td>Male</td>\n",
       "      <td>27</td>\n",
       "      <td>Salesmen and sales clerks (nec)</td>\n",
       "      <td>1</td>\n",
       "    </tr>\n",
       "    <tr>\n",
       "      <th>5</th>\n",
       "      <td>0</td>\n",
       "      <td>0</td>\n",
       "      <td>0</td>\n",
       "      <td>0</td>\n",
       "      <td>Male</td>\n",
       "      <td>60</td>\n",
       "      <td>Purchasing agents and buyers (nec)</td>\n",
       "      <td>2</td>\n",
       "    </tr>\n",
       "    <tr>\n",
       "      <th>7</th>\n",
       "      <td>0</td>\n",
       "      <td>0</td>\n",
       "      <td>0</td>\n",
       "      <td>0</td>\n",
       "      <td>Male</td>\n",
       "      <td>69</td>\n",
       "      <td>Lumbermen, raftsmen, and woodchoppers</td>\n",
       "      <td>1</td>\n",
       "    </tr>\n",
       "    <tr>\n",
       "      <th>8</th>\n",
       "      <td>0</td>\n",
       "      <td>0</td>\n",
       "      <td>0</td>\n",
       "      <td>0</td>\n",
       "      <td>Male</td>\n",
       "      <td>44</td>\n",
       "      <td>Managers, officials, and proprietors (nec)</td>\n",
       "      <td>1</td>\n",
       "    </tr>\n",
       "    <tr>\n",
       "      <th>9</th>\n",
       "      <td>0</td>\n",
       "      <td>0</td>\n",
       "      <td>1</td>\n",
       "      <td>0</td>\n",
       "      <td>Male</td>\n",
       "      <td>54</td>\n",
       "      <td>Bookkeepers</td>\n",
       "      <td>4</td>\n",
       "    </tr>\n",
       "    <tr>\n",
       "      <th>10</th>\n",
       "      <td>0</td>\n",
       "      <td>0</td>\n",
       "      <td>0</td>\n",
       "      <td>0</td>\n",
       "      <td>Male</td>\n",
       "      <td>73</td>\n",
       "      <td>Foremen (nec)</td>\n",
       "      <td>1</td>\n",
       "    </tr>\n",
       "    <tr>\n",
       "      <th>11</th>\n",
       "      <td>4</td>\n",
       "      <td>0</td>\n",
       "      <td>0</td>\n",
       "      <td>21</td>\n",
       "      <td>Male</td>\n",
       "      <td>55</td>\n",
       "      <td>Carpenters</td>\n",
       "      <td>1</td>\n",
       "    </tr>\n",
       "    <tr>\n",
       "      <th>12</th>\n",
       "      <td>0</td>\n",
       "      <td>0</td>\n",
       "      <td>0</td>\n",
       "      <td>0</td>\n",
       "      <td>Female</td>\n",
       "      <td>47</td>\n",
       "      <td>Clerical and kindred workers (n.e.c.)</td>\n",
       "      <td>1</td>\n",
       "    </tr>\n",
       "    <tr>\n",
       "      <th>13</th>\n",
       "      <td>0</td>\n",
       "      <td>0</td>\n",
       "      <td>0</td>\n",
       "      <td>0</td>\n",
       "      <td>Male</td>\n",
       "      <td>53</td>\n",
       "      <td>Gardeners, except farm and groundskeepers</td>\n",
       "      <td>1</td>\n",
       "    </tr>\n",
       "    <tr>\n",
       "      <th>14</th>\n",
       "      <td>2</td>\n",
       "      <td>0</td>\n",
       "      <td>0</td>\n",
       "      <td>12</td>\n",
       "      <td>Male</td>\n",
       "      <td>43</td>\n",
       "      <td>Managers, officials, and proprietors (nec)</td>\n",
       "      <td>3</td>\n",
       "    </tr>\n",
       "    <tr>\n",
       "      <th>15</th>\n",
       "      <td>0</td>\n",
       "      <td>0</td>\n",
       "      <td>0</td>\n",
       "      <td>0</td>\n",
       "      <td>Male</td>\n",
       "      <td>44</td>\n",
       "      <td>Operative and kindred workers (nec)</td>\n",
       "      <td>1</td>\n",
       "    </tr>\n",
       "  </tbody>\n",
       "</table>\n",
       "</div>"
      ],
      "text/plain": [
       "   nchild nchild_under_5 nsibs eldch     sex age  \\\n",
       "0       0              0     0     0    Male  43   \n",
       "1       0              0     0     0    Male  28   \n",
       "2       3              0     0    15    Male  36   \n",
       "3       0              0     0     0    Male  48   \n",
       "4       2              2     0     2    Male  27   \n",
       "5       0              0     0     0    Male  60   \n",
       "7       0              0     0     0    Male  69   \n",
       "8       0              0     0     0    Male  44   \n",
       "9       0              0     1     0    Male  54   \n",
       "10      0              0     0     0    Male  73   \n",
       "11      4              0     0    21    Male  55   \n",
       "12      0              0     0     0  Female  47   \n",
       "13      0              0     0     0    Male  53   \n",
       "14      2              0     0    12    Male  43   \n",
       "15      0              0     0     0    Male  44   \n",
       "\n",
       "                                       occ1950  ed_group_h  \n",
       "0          Operative and kindred workers (nec)           1  \n",
       "1   Managers, officials, and proprietors (nec)           2  \n",
       "2                                Foremen (nec)           1  \n",
       "3   Managers, officials, and proprietors (nec)           1  \n",
       "4              Salesmen and sales clerks (nec)           1  \n",
       "5           Purchasing agents and buyers (nec)           2  \n",
       "7        Lumbermen, raftsmen, and woodchoppers           1  \n",
       "8   Managers, officials, and proprietors (nec)           1  \n",
       "9                                  Bookkeepers           4  \n",
       "10                               Foremen (nec)           1  \n",
       "11                                  Carpenters           1  \n",
       "12       Clerical and kindred workers (n.e.c.)           1  \n",
       "13   Gardeners, except farm and groundskeepers           1  \n",
       "14  Managers, officials, and proprietors (nec)           3  \n",
       "15         Operative and kindred workers (nec)           1  "
      ]
     },
     "execution_count": 200,
     "metadata": {},
     "output_type": "execute_result"
    }
   ],
   "source": [
    "census.head(15)"
   ]
  },
  {
   "cell_type": "markdown",
   "metadata": {},
   "source": [
    "## TODO: Convert columns from object into int types. \n",
    "\n",
    "https://stackoverflow.com/questions/39173813/pandas-convert-dtype-object-to-int\n"
   ]
  },
  {
   "cell_type": "code",
   "execution_count": 201,
   "metadata": {},
   "outputs": [
    {
     "data": {
      "text/plain": [
       "nchild            object\n",
       "nchild_under_5    object\n",
       "nsibs             object\n",
       "eldch             object\n",
       "sex               object\n",
       "age               object\n",
       "occ1950           object\n",
       "ed_group_h         int64\n",
       "dtype: object"
      ]
     },
     "execution_count": 201,
     "metadata": {},
     "output_type": "execute_result"
    }
   ],
   "source": [
    "census.dtypes"
   ]
  },
  {
   "cell_type": "code",
   "execution_count": 202,
   "metadata": {
    "scrolled": true
   },
   "outputs": [
    {
     "data": {
      "text/html": [
       "<div>\n",
       "<style scoped>\n",
       "    .dataframe tbody tr th:only-of-type {\n",
       "        vertical-align: middle;\n",
       "    }\n",
       "\n",
       "    .dataframe tbody tr th {\n",
       "        vertical-align: top;\n",
       "    }\n",
       "\n",
       "    .dataframe thead th {\n",
       "        text-align: right;\n",
       "    }\n",
       "</style>\n",
       "<table border=\"1\" class=\"dataframe\">\n",
       "  <thead>\n",
       "    <tr style=\"text-align: right;\">\n",
       "      <th></th>\n",
       "      <th>nchild</th>\n",
       "      <th>nchild_under_5</th>\n",
       "      <th>nsibs</th>\n",
       "      <th>eldch</th>\n",
       "      <th>sex</th>\n",
       "      <th>age</th>\n",
       "      <th>occ1950</th>\n",
       "      <th>ed_group_h</th>\n",
       "    </tr>\n",
       "  </thead>\n",
       "  <tbody>\n",
       "    <tr>\n",
       "      <th>0</th>\n",
       "      <td>0</td>\n",
       "      <td>0</td>\n",
       "      <td>0</td>\n",
       "      <td>0</td>\n",
       "      <td>Male</td>\n",
       "      <td>43</td>\n",
       "      <td>Operative and kindred workers (nec)</td>\n",
       "      <td>1</td>\n",
       "    </tr>\n",
       "    <tr>\n",
       "      <th>1</th>\n",
       "      <td>0</td>\n",
       "      <td>0</td>\n",
       "      <td>0</td>\n",
       "      <td>0</td>\n",
       "      <td>Male</td>\n",
       "      <td>28</td>\n",
       "      <td>Managers, officials, and proprietors (nec)</td>\n",
       "      <td>2</td>\n",
       "    </tr>\n",
       "    <tr>\n",
       "      <th>2</th>\n",
       "      <td>3</td>\n",
       "      <td>0</td>\n",
       "      <td>0</td>\n",
       "      <td>15</td>\n",
       "      <td>Male</td>\n",
       "      <td>36</td>\n",
       "      <td>Foremen (nec)</td>\n",
       "      <td>1</td>\n",
       "    </tr>\n",
       "    <tr>\n",
       "      <th>3</th>\n",
       "      <td>0</td>\n",
       "      <td>0</td>\n",
       "      <td>0</td>\n",
       "      <td>0</td>\n",
       "      <td>Male</td>\n",
       "      <td>48</td>\n",
       "      <td>Managers, officials, and proprietors (nec)</td>\n",
       "      <td>1</td>\n",
       "    </tr>\n",
       "    <tr>\n",
       "      <th>4</th>\n",
       "      <td>2</td>\n",
       "      <td>2</td>\n",
       "      <td>0</td>\n",
       "      <td>2</td>\n",
       "      <td>Male</td>\n",
       "      <td>27</td>\n",
       "      <td>Salesmen and sales clerks (nec)</td>\n",
       "      <td>1</td>\n",
       "    </tr>\n",
       "    <tr>\n",
       "      <th>5</th>\n",
       "      <td>0</td>\n",
       "      <td>0</td>\n",
       "      <td>0</td>\n",
       "      <td>0</td>\n",
       "      <td>Male</td>\n",
       "      <td>60</td>\n",
       "      <td>Purchasing agents and buyers (nec)</td>\n",
       "      <td>2</td>\n",
       "    </tr>\n",
       "    <tr>\n",
       "      <th>7</th>\n",
       "      <td>0</td>\n",
       "      <td>0</td>\n",
       "      <td>0</td>\n",
       "      <td>0</td>\n",
       "      <td>Male</td>\n",
       "      <td>69</td>\n",
       "      <td>Lumbermen, raftsmen, and woodchoppers</td>\n",
       "      <td>1</td>\n",
       "    </tr>\n",
       "    <tr>\n",
       "      <th>8</th>\n",
       "      <td>0</td>\n",
       "      <td>0</td>\n",
       "      <td>0</td>\n",
       "      <td>0</td>\n",
       "      <td>Male</td>\n",
       "      <td>44</td>\n",
       "      <td>Managers, officials, and proprietors (nec)</td>\n",
       "      <td>1</td>\n",
       "    </tr>\n",
       "    <tr>\n",
       "      <th>9</th>\n",
       "      <td>0</td>\n",
       "      <td>0</td>\n",
       "      <td>1</td>\n",
       "      <td>0</td>\n",
       "      <td>Male</td>\n",
       "      <td>54</td>\n",
       "      <td>Bookkeepers</td>\n",
       "      <td>4</td>\n",
       "    </tr>\n",
       "    <tr>\n",
       "      <th>10</th>\n",
       "      <td>0</td>\n",
       "      <td>0</td>\n",
       "      <td>0</td>\n",
       "      <td>0</td>\n",
       "      <td>Male</td>\n",
       "      <td>73</td>\n",
       "      <td>Foremen (nec)</td>\n",
       "      <td>1</td>\n",
       "    </tr>\n",
       "  </tbody>\n",
       "</table>\n",
       "</div>"
      ],
      "text/plain": [
       "    nchild  nchild_under_5  nsibs  eldch   sex  age  \\\n",
       "0        0               0      0      0  Male   43   \n",
       "1        0               0      0      0  Male   28   \n",
       "2        3               0      0     15  Male   36   \n",
       "3        0               0      0      0  Male   48   \n",
       "4        2               2      0      2  Male   27   \n",
       "5        0               0      0      0  Male   60   \n",
       "7        0               0      0      0  Male   69   \n",
       "8        0               0      0      0  Male   44   \n",
       "9        0               0      1      0  Male   54   \n",
       "10       0               0      0      0  Male   73   \n",
       "\n",
       "                                       occ1950  ed_group_h  \n",
       "0          Operative and kindred workers (nec)           1  \n",
       "1   Managers, officials, and proprietors (nec)           2  \n",
       "2                                Foremen (nec)           1  \n",
       "3   Managers, officials, and proprietors (nec)           1  \n",
       "4              Salesmen and sales clerks (nec)           1  \n",
       "5           Purchasing agents and buyers (nec)           2  \n",
       "7        Lumbermen, raftsmen, and woodchoppers           1  \n",
       "8   Managers, officials, and proprietors (nec)           1  \n",
       "9                                  Bookkeepers           4  \n",
       "10                               Foremen (nec)           1  "
      ]
     },
     "execution_count": 202,
     "metadata": {},
     "output_type": "execute_result"
    }
   ],
   "source": [
    "census.nchild = census['nchild'].astype('int')\n",
    "census.nchild_under_5 = census['nchild_under_5'].astype('int')\n",
    "census.nsibs = census['nsibs'].astype('int')\n",
    "census.eldch = census['eldch'].astype('int')\n",
    "census.age = census['age'].astype('int')\n",
    "#census.sex = census['sex'].astype('int')\n",
    "census.head(10)"
   ]
  },
  {
   "cell_type": "code",
   "execution_count": 203,
   "metadata": {},
   "outputs": [],
   "source": [
    "#saving your data\n",
    "census.to_csv('cleaned_census.csv')"
   ]
  },
  {
   "cell_type": "code",
   "execution_count": null,
   "metadata": {},
   "outputs": [],
   "source": []
  }
 ],
 "metadata": {
  "kernelspec": {
   "display_name": "Python 3",
   "language": "python",
   "name": "python3"
  },
  "language_info": {
   "codemirror_mode": {
    "name": "ipython",
    "version": 3
   },
   "file_extension": ".py",
   "mimetype": "text/x-python",
   "name": "python",
   "nbconvert_exporter": "python",
   "pygments_lexer": "ipython3",
   "version": "3.7.4"
  }
 },
 "nbformat": 4,
 "nbformat_minor": 2
}
