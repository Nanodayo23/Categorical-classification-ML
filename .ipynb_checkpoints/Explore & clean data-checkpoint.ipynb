{
 "cells": [
  {
   "cell_type": "markdown",
   "metadata": {},
   "source": [
    "### Read in Data"
   ]
  },
  {
   "cell_type": "code",
   "execution_count": 1,
   "metadata": {},
   "outputs": [
    {
     "name": "stderr",
     "output_type": "stream",
     "text": [
      "C:\\Users\\48733\\Anaconda3\\lib\\site-packages\\statsmodels\\tools\\_testing.py:19: FutureWarning: pandas.util.testing is deprecated. Use the functions in the public API at pandas.testing instead.\n",
      "  import pandas.util.testing as tm\n"
     ]
    },
    {
     "data": {
      "text/html": [
       "<div>\n",
       "<style scoped>\n",
       "    .dataframe tbody tr th:only-of-type {\n",
       "        vertical-align: middle;\n",
       "    }\n",
       "\n",
       "    .dataframe tbody tr th {\n",
       "        vertical-align: top;\n",
       "    }\n",
       "\n",
       "    .dataframe thead th {\n",
       "        text-align: right;\n",
       "    }\n",
       "</style>\n",
       "<table border=\"1\" class=\"dataframe\">\n",
       "  <thead>\n",
       "    <tr style=\"text-align: right;\">\n",
       "      <th></th>\n",
       "      <th>year</th>\n",
       "      <th>sample</th>\n",
       "      <th>serial</th>\n",
       "      <th>hhwt</th>\n",
       "      <th>cluster</th>\n",
       "      <th>perwt</th>\n",
       "      <th>nchild</th>\n",
       "      <th>nchild_under_5</th>\n",
       "      <th>nsibs</th>\n",
       "      <th>eldch</th>\n",
       "      <th>sex</th>\n",
       "      <th>age</th>\n",
       "      <th>birthyr</th>\n",
       "      <th>race</th>\n",
       "      <th>educ</th>\n",
       "      <th>ed_var_detailed</th>\n",
       "      <th>occ</th>\n",
       "      <th>occ1950</th>\n",
       "      <th>ed_group_h</th>\n",
       "    </tr>\n",
       "  </thead>\n",
       "  <tbody>\n",
       "    <tr>\n",
       "      <th>0</th>\n",
       "      <td>1960</td>\n",
       "      <td>1960 5%</td>\n",
       "      <td>69847</td>\n",
       "      <td>20</td>\n",
       "      <td>1.960000e+12</td>\n",
       "      <td>20</td>\n",
       "      <td>0 children present</td>\n",
       "      <td>No children under age 5</td>\n",
       "      <td>0 siblings</td>\n",
       "      <td>NaN</td>\n",
       "      <td>Male</td>\n",
       "      <td>43</td>\n",
       "      <td>1916</td>\n",
       "      <td>White</td>\n",
       "      <td>Grade 5, 6, 7, or 8</td>\n",
       "      <td>Grade 8</td>\n",
       "      <td>775</td>\n",
       "      <td>Operative and kindred workers (nec)</td>\n",
       "      <td>1</td>\n",
       "    </tr>\n",
       "    <tr>\n",
       "      <th>1</th>\n",
       "      <td>1960</td>\n",
       "      <td>1960 5%</td>\n",
       "      <td>2619724</td>\n",
       "      <td>20</td>\n",
       "      <td>1.960030e+12</td>\n",
       "      <td>20</td>\n",
       "      <td>0 children present</td>\n",
       "      <td>No children under age 5</td>\n",
       "      <td>0 siblings</td>\n",
       "      <td>NaN</td>\n",
       "      <td>Male</td>\n",
       "      <td>28</td>\n",
       "      <td>1931</td>\n",
       "      <td>White</td>\n",
       "      <td>Grade 12</td>\n",
       "      <td>Grade 12</td>\n",
       "      <td>290</td>\n",
       "      <td>Managers, officials, and proprietors (nec)</td>\n",
       "      <td>2</td>\n",
       "    </tr>\n",
       "    <tr>\n",
       "      <th>2</th>\n",
       "      <td>1960</td>\n",
       "      <td>1960 5%</td>\n",
       "      <td>2283283</td>\n",
       "      <td>20</td>\n",
       "      <td>1.960020e+12</td>\n",
       "      <td>20</td>\n",
       "      <td>3</td>\n",
       "      <td>No children under age 5</td>\n",
       "      <td>0 siblings</td>\n",
       "      <td>15</td>\n",
       "      <td>Male</td>\n",
       "      <td>36</td>\n",
       "      <td>1923</td>\n",
       "      <td>White</td>\n",
       "      <td>Grade 10</td>\n",
       "      <td>Grade 10</td>\n",
       "      <td>430</td>\n",
       "      <td>Foremen (nec)</td>\n",
       "      <td>1</td>\n",
       "    </tr>\n",
       "    <tr>\n",
       "      <th>3</th>\n",
       "      <td>1960</td>\n",
       "      <td>1960 5%</td>\n",
       "      <td>2367708</td>\n",
       "      <td>20</td>\n",
       "      <td>1.960020e+12</td>\n",
       "      <td>20</td>\n",
       "      <td>0 children present</td>\n",
       "      <td>No children under age 5</td>\n",
       "      <td>0 siblings</td>\n",
       "      <td>NaN</td>\n",
       "      <td>Male</td>\n",
       "      <td>48</td>\n",
       "      <td>1912</td>\n",
       "      <td>White</td>\n",
       "      <td>Nursery school to grade 4</td>\n",
       "      <td>Grade 3</td>\n",
       "      <td>290</td>\n",
       "      <td>Managers, officials, and proprietors (nec)</td>\n",
       "      <td>1</td>\n",
       "    </tr>\n",
       "    <tr>\n",
       "      <th>4</th>\n",
       "      <td>1960</td>\n",
       "      <td>1960 5%</td>\n",
       "      <td>508827</td>\n",
       "      <td>20</td>\n",
       "      <td>1.960010e+12</td>\n",
       "      <td>20</td>\n",
       "      <td>2</td>\n",
       "      <td>2</td>\n",
       "      <td>0 siblings</td>\n",
       "      <td>2</td>\n",
       "      <td>Male</td>\n",
       "      <td>27</td>\n",
       "      <td>1932</td>\n",
       "      <td>White</td>\n",
       "      <td>Grade 11</td>\n",
       "      <td>Grade 11</td>\n",
       "      <td>394</td>\n",
       "      <td>Salesmen and sales clerks (nec)</td>\n",
       "      <td>1</td>\n",
       "    </tr>\n",
       "  </tbody>\n",
       "</table>\n",
       "</div>"
      ],
      "text/plain": [
       "   year   sample   serial  hhwt       cluster  perwt              nchild  \\\n",
       "0  1960  1960 5%    69847    20  1.960000e+12     20  0 children present   \n",
       "1  1960  1960 5%  2619724    20  1.960030e+12     20  0 children present   \n",
       "2  1960  1960 5%  2283283    20  1.960020e+12     20                   3   \n",
       "3  1960  1960 5%  2367708    20  1.960020e+12     20  0 children present   \n",
       "4  1960  1960 5%   508827    20  1.960010e+12     20                   2   \n",
       "\n",
       "            nchild_under_5       nsibs eldch   sex age  birthyr   race  \\\n",
       "0  No children under age 5  0 siblings   NaN  Male  43     1916  White   \n",
       "1  No children under age 5  0 siblings   NaN  Male  28     1931  White   \n",
       "2  No children under age 5  0 siblings    15  Male  36     1923  White   \n",
       "3  No children under age 5  0 siblings   NaN  Male  48     1912  White   \n",
       "4                        2  0 siblings     2  Male  27     1932  White   \n",
       "\n",
       "                        educ ed_var_detailed  occ  \\\n",
       "0        Grade 5, 6, 7, or 8         Grade 8  775   \n",
       "1                   Grade 12        Grade 12  290   \n",
       "2                   Grade 10        Grade 10  430   \n",
       "3  Nursery school to grade 4         Grade 3  290   \n",
       "4                   Grade 11        Grade 11  394   \n",
       "\n",
       "                                      occ1950  ed_group_h  \n",
       "0         Operative and kindred workers (nec)           1  \n",
       "1  Managers, officials, and proprietors (nec)           2  \n",
       "2                               Foremen (nec)           1  \n",
       "3  Managers, officials, and proprietors (nec)           1  \n",
       "4             Salesmen and sales clerks (nec)           1  "
      ]
     },
     "execution_count": 1,
     "metadata": {},
     "output_type": "execute_result"
    }
   ],
   "source": [
    "import numpy as np\n",
    "import pandas as pd\n",
    "from sklearn.model_selection import train_test_split\n",
    "from sklearn.preprocessing import StandardScaler\n",
    "from sklearn.ensemble import RandomForestClassifier\n",
    "from sklearn.metrics import confusion_matrix\n",
    "from sklearn.externals import joblib\n",
    "import seaborn as sns\n",
    "import math\n",
    "import sys\n",
    "%matplotlib inline\n",
    "\n",
    "census = pd.read_csv('./census_ml.csv')\n",
    "census.head()"
   ]
  },
  {
   "cell_type": "markdown",
   "metadata": {},
   "source": [
    "### Clean continuous variables"
   ]
  },
  {
   "cell_type": "code",
   "execution_count": 2,
   "metadata": {},
   "outputs": [
    {
     "data": {
      "text/plain": [
       "year                   0\n",
       "sample                 0\n",
       "serial                 0\n",
       "hhwt                   0\n",
       "cluster                0\n",
       "perwt                  0\n",
       "nchild                 0\n",
       "nchild_under_5         0\n",
       "nsibs                  0\n",
       "eldch              78438\n",
       "sex                    0\n",
       "age                    0\n",
       "birthyr                0\n",
       "race                   0\n",
       "educ                   0\n",
       "ed_var_detailed        0\n",
       "occ                    0\n",
       "occ1950                0\n",
       "ed_group_h             0\n",
       "dtype: int64"
      ]
     },
     "execution_count": 2,
     "metadata": {},
     "output_type": "execute_result"
    }
   ],
   "source": [
    "census.isnull().sum()"
   ]
  },
  {
   "cell_type": "markdown",
   "metadata": {},
   "source": [
    "#### Cleaning census['eldch']"
   ]
  },
  {
   "cell_type": "code",
   "execution_count": 3,
   "metadata": {},
   "outputs": [
    {
     "data": {
      "text/plain": [
       "array([nan, '15', '2', '21', '12', '13', '11', '29', '17', '16', '14',\n",
       "       'Less than 1 year old', '38', '8', '3', '10', '1', '5', '6', '9',\n",
       "       '31', '4', '26', '24', '23', '19', '7', '22', '18', '55', '20',\n",
       "       '27', '53', '35', '34', '37', '28', '36', '25', '60', '33', '52',\n",
       "       '68', '39', '49', '32', '50', '56', '30', '41', '57', '44', '47',\n",
       "       '42', '48', '46', '51', '43', '74', '54', '40', '72', '45', '71',\n",
       "       '59', '66', '62', '58', '65', '63', '61', '73', '69', '64', '70',\n",
       "       '67', '87'], dtype=object)"
      ]
     },
     "execution_count": 3,
     "metadata": {},
     "output_type": "execute_result"
    }
   ],
   "source": [
    "census['eldch'].unique()"
   ]
  },
  {
   "cell_type": "code",
   "execution_count": 4,
   "metadata": {},
   "outputs": [],
   "source": [
    "census['eldch'] = np.where((census['eldch'] == 'Less than 1 year old'),\n",
    "                           0, census['eldch'])"
   ]
  },
  {
   "cell_type": "code",
   "execution_count": 5,
   "metadata": {},
   "outputs": [],
   "source": [
    "census[\"eldch\"].fillna(0, inplace = True) \n"
   ]
  },
  {
   "cell_type": "code",
   "execution_count": 6,
   "metadata": {},
   "outputs": [
    {
     "name": "stdout",
     "output_type": "stream",
     "text": [
      "<class 'str'>\n"
     ]
    }
   ],
   "source": [
    "census['eldch'][2]\n",
    "print(type(census['eldch'][2]))"
   ]
  },
  {
   "cell_type": "code",
   "execution_count": 7,
   "metadata": {},
   "outputs": [
    {
     "name": "stdout",
     "output_type": "stream",
     "text": [
      "0\n",
      "1\n",
      "2\n",
      "3\n",
      "4\n",
      "5\n",
      "6\n",
      "7\n",
      "8\n",
      "9\n",
      "10\n",
      "11\n",
      "12\n",
      "13\n",
      "14\n",
      "15\n",
      "16\n",
      "17\n",
      "18\n",
      "19\n",
      "20\n",
      "21\n",
      "22\n",
      "23\n",
      "24\n",
      "25\n",
      "26\n",
      "27\n",
      "28\n",
      "29\n",
      "30\n",
      "31\n",
      "32\n",
      "33\n",
      "34\n",
      "35\n",
      "36\n",
      "37\n",
      "38\n",
      "39\n",
      "40\n",
      "41\n",
      "42\n",
      "43\n",
      "44\n",
      "45\n",
      "46\n",
      "47\n",
      "48\n",
      "49\n",
      "50\n",
      "51\n",
      "52\n",
      "53\n",
      "54\n",
      "55\n",
      "56\n",
      "57\n",
      "58\n",
      "59\n",
      "60\n",
      "61\n",
      "62\n",
      "63\n",
      "64\n",
      "65\n",
      "66\n",
      "67\n",
      "68\n",
      "69\n",
      "70\n",
      "71\n",
      "72\n",
      "73\n",
      "74\n",
      "75\n",
      "76\n",
      "77\n",
      "78\n",
      "79\n",
      "80\n",
      "81\n",
      "82\n",
      "83\n",
      "84\n",
      "85\n",
      "86\n",
      "87\n"
     ]
    }
   ],
   "source": [
    "for i in range(88):\n",
    "    census['eldch'] = np.where((census['eldch'] == str(i)),\n",
    "                           int(i), census['eldch'])\n",
    "    print(i)"
   ]
  },
  {
   "cell_type": "code",
   "execution_count": 8,
   "metadata": {},
   "outputs": [
    {
     "data": {
      "text/plain": [
       "15"
      ]
     },
     "execution_count": 8,
     "metadata": {},
     "output_type": "execute_result"
    }
   ],
   "source": [
    "census['eldch'][2]\n",
    "#print(type(census['eldch'][2]))"
   ]
  },
  {
   "cell_type": "markdown",
   "metadata": {},
   "source": [
    "#### Cleaning census['nchild]"
   ]
  },
  {
   "cell_type": "code",
   "execution_count": 9,
   "metadata": {},
   "outputs": [
    {
     "data": {
      "text/plain": [
       "array(['0 children present', '3', '2', '4', '5', '1 child present', '6',\n",
       "       '7', '9+', '8'], dtype=object)"
      ]
     },
     "execution_count": 9,
     "metadata": {},
     "output_type": "execute_result"
    }
   ],
   "source": [
    "census['nchild'].unique()"
   ]
  },
  {
   "cell_type": "code",
   "execution_count": 10,
   "metadata": {},
   "outputs": [],
   "source": [
    "census['nchild'] = np.where((census['nchild'] == '0 children present'),\n",
    "                           0, census['nchild'])"
   ]
  },
  {
   "cell_type": "code",
   "execution_count": 11,
   "metadata": {},
   "outputs": [],
   "source": [
    "census['nchild'] = np.where((census['nchild'] == '1 child present'),\n",
    "                           1, census['nchild'])"
   ]
  },
  {
   "cell_type": "code",
   "execution_count": 12,
   "metadata": {},
   "outputs": [],
   "source": [
    "census['nchild'] = np.where((census['nchild'] == '9+'),\n",
    "                           11, census['nchild'])"
   ]
  },
  {
   "cell_type": "code",
   "execution_count": 13,
   "metadata": {},
   "outputs": [
    {
     "name": "stdout",
     "output_type": "stream",
     "text": [
      "0\n",
      "1\n",
      "2\n",
      "3\n",
      "4\n",
      "5\n",
      "6\n",
      "7\n",
      "8\n",
      "9\n",
      "10\n",
      "11\n"
     ]
    }
   ],
   "source": [
    "for i in range(12):\n",
    "    census['nchild'] = np.where((census['nchild'] == str(i)),\n",
    "                           int(i), census['nchild'])\n",
    "    print(i)"
   ]
  },
  {
   "cell_type": "markdown",
   "metadata": {},
   "source": [
    "#### Cleaning census['nchild_under_5']"
   ]
  },
  {
   "cell_type": "code",
   "execution_count": 14,
   "metadata": {},
   "outputs": [
    {
     "data": {
      "text/plain": [
       "array(['No children under age 5', '2', '1 child under age 5', '3', '4',\n",
       "       '5', '6'], dtype=object)"
      ]
     },
     "execution_count": 14,
     "metadata": {},
     "output_type": "execute_result"
    }
   ],
   "source": [
    "census['nchild_under_5'].unique()"
   ]
  },
  {
   "cell_type": "code",
   "execution_count": 15,
   "metadata": {},
   "outputs": [],
   "source": [
    "census['nchild_under_5'] = np.where((census['nchild_under_5'] == 'No children under age 5'),\n",
    "                           0, census['nchild_under_5'])\n",
    "\n",
    "census['nchild_under_5'] = np.where((census['nchild_under_5'] == '1 child under age 5'),\n",
    "                           1, census['nchild_under_5'])"
   ]
  },
  {
   "cell_type": "code",
   "execution_count": 16,
   "metadata": {},
   "outputs": [
    {
     "name": "stdout",
     "output_type": "stream",
     "text": [
      "0\n",
      "1\n",
      "2\n",
      "3\n",
      "4\n",
      "5\n",
      "6\n"
     ]
    }
   ],
   "source": [
    "for i in range(7):\n",
    "    census['nchild_under_5'] = np.where((census['nchild_under_5'] == str(i)),\n",
    "                           int(i), census['nchild_under_5'])\n",
    "    print(i)"
   ]
  },
  {
   "cell_type": "markdown",
   "metadata": {},
   "source": [
    "#### Cleaning census['nsibs']"
   ]
  },
  {
   "cell_type": "code",
   "execution_count": 17,
   "metadata": {},
   "outputs": [
    {
     "data": {
      "text/plain": [
       "array(['0 siblings', '1 sibling', '4 siblings', '2 siblings',\n",
       "       '3 siblings', '5 siblings', '6 siblings'], dtype=object)"
      ]
     },
     "execution_count": 17,
     "metadata": {},
     "output_type": "execute_result"
    }
   ],
   "source": [
    "census['nsibs'].unique()"
   ]
  },
  {
   "cell_type": "code",
   "execution_count": 18,
   "metadata": {},
   "outputs": [],
   "source": [
    "census['nsibs'] = np.where((census['nsibs'] == '1 sibling'),\n",
    "                           '1 siblings', census['nsibs'])"
   ]
  },
  {
   "cell_type": "code",
   "execution_count": 19,
   "metadata": {},
   "outputs": [
    {
     "name": "stdout",
     "output_type": "stream",
     "text": [
      "0\n",
      "1\n",
      "2\n",
      "3\n",
      "4\n",
      "5\n",
      "6\n"
     ]
    }
   ],
   "source": [
    "for i in range(7):\n",
    "    census['nsibs'] = np.where((census['nsibs'] == (str(i) + ' siblings')),\n",
    "                           int(i), census['nsibs'])\n",
    "    print(i)"
   ]
  },
  {
   "cell_type": "markdown",
   "metadata": {},
   "source": [
    "#### Cleaning census['age']"
   ]
  },
  {
   "cell_type": "code",
   "execution_count": 20,
   "metadata": {},
   "outputs": [
    {
     "data": {
      "text/plain": [
       "array(['43', '28', '36', '48', '27', '60', '63', '69', '44', '54', '73',\n",
       "       '55', '47', '53', '39', '40', '41', '35', '64', '42', '50', '23',\n",
       "       '38', '57', '46', '31', '76', '70', '32', '22', '25', '45', '30',\n",
       "       '65', '52', '49', '67', '26', '37', '58', '77', '62', '61', '78',\n",
       "       '33', '34', '56', '51', '74', '59', '79', '24', '82', '81', '29',\n",
       "       '20', '66', '68', '72', '71', '75', '85', '21', '93', '19', '80',\n",
       "       '88', '84', '90 (90+ in 1980 and 1990)', '18', '83', '86', '87',\n",
       "       '17', '91', '16', '92', '94', '15', '98', '89', '14',\n",
       "       '100 (100+ in 1960-1970)', '95', '97', '96', '99'], dtype=object)"
      ]
     },
     "execution_count": 20,
     "metadata": {},
     "output_type": "execute_result"
    }
   ],
   "source": [
    "census['age'].unique()"
   ]
  },
  {
   "cell_type": "code",
   "execution_count": 21,
   "metadata": {},
   "outputs": [],
   "source": [
    "census['age'] = np.where((census['age'] == \"90 (90+ in 1980 and 1990)\"),\n",
    "                           '90', census['age'])\n",
    "\n",
    "census['age'] = np.where((census['age'] == \"100 (100+ in 1960-1970)\"),\n",
    "                           '100', census['age'])"
   ]
  },
  {
   "cell_type": "code",
   "execution_count": 22,
   "metadata": {},
   "outputs": [
    {
     "name": "stdout",
     "output_type": "stream",
     "text": [
      "0\n",
      "1\n",
      "2\n",
      "3\n",
      "4\n",
      "5\n",
      "6\n",
      "7\n",
      "8\n",
      "9\n",
      "10\n",
      "11\n",
      "12\n",
      "13\n",
      "14\n",
      "15\n",
      "16\n",
      "17\n",
      "18\n",
      "19\n",
      "20\n",
      "21\n",
      "22\n",
      "23\n",
      "24\n",
      "25\n",
      "26\n",
      "27\n",
      "28\n",
      "29\n",
      "30\n",
      "31\n",
      "32\n",
      "33\n",
      "34\n",
      "35\n",
      "36\n",
      "37\n",
      "38\n",
      "39\n",
      "40\n",
      "41\n",
      "42\n",
      "43\n",
      "44\n",
      "45\n",
      "46\n",
      "47\n",
      "48\n",
      "49\n",
      "50\n",
      "51\n",
      "52\n",
      "53\n",
      "54\n",
      "55\n",
      "56\n",
      "57\n",
      "58\n",
      "59\n",
      "60\n",
      "61\n",
      "62\n",
      "63\n",
      "64\n",
      "65\n",
      "66\n",
      "67\n",
      "68\n",
      "69\n",
      "70\n",
      "71\n",
      "72\n",
      "73\n",
      "74\n",
      "75\n",
      "76\n",
      "77\n",
      "78\n",
      "79\n",
      "80\n",
      "81\n",
      "82\n",
      "83\n",
      "84\n",
      "85\n",
      "86\n",
      "87\n",
      "88\n",
      "89\n",
      "90\n",
      "91\n",
      "92\n",
      "93\n",
      "94\n",
      "95\n",
      "96\n",
      "97\n",
      "98\n",
      "99\n",
      "100\n"
     ]
    }
   ],
   "source": [
    "for i in range(101):\n",
    "    census['age'] = np.where((census['age'] == str(i)),\n",
    "                           int(i), census['age'])\n",
    "    print(i)"
   ]
  },
  {
   "cell_type": "markdown",
   "metadata": {},
   "source": [
    "#### Drop unnnecessary variables"
   ]
  },
  {
   "cell_type": "code",
   "execution_count": 23,
   "metadata": {},
   "outputs": [],
   "source": [
    "census.drop(['year', 'sample', 'serial', 'hhwt', 'cluster', 'perwt', 'birthyr', 'occ', 'educ', 'race'], axis=1, inplace=True)"
   ]
  },
  {
   "cell_type": "code",
   "execution_count": 24,
   "metadata": {},
   "outputs": [
    {
     "data": {
      "text/html": [
       "<div>\n",
       "<style scoped>\n",
       "    .dataframe tbody tr th:only-of-type {\n",
       "        vertical-align: middle;\n",
       "    }\n",
       "\n",
       "    .dataframe tbody tr th {\n",
       "        vertical-align: top;\n",
       "    }\n",
       "\n",
       "    .dataframe thead th {\n",
       "        text-align: right;\n",
       "    }\n",
       "</style>\n",
       "<table border=\"1\" class=\"dataframe\">\n",
       "  <thead>\n",
       "    <tr style=\"text-align: right;\">\n",
       "      <th></th>\n",
       "      <th>nchild</th>\n",
       "      <th>nchild_under_5</th>\n",
       "      <th>nsibs</th>\n",
       "      <th>eldch</th>\n",
       "      <th>sex</th>\n",
       "      <th>age</th>\n",
       "      <th>ed_var_detailed</th>\n",
       "      <th>occ1950</th>\n",
       "      <th>ed_group_h</th>\n",
       "    </tr>\n",
       "  </thead>\n",
       "  <tbody>\n",
       "    <tr>\n",
       "      <th>0</th>\n",
       "      <td>0</td>\n",
       "      <td>0</td>\n",
       "      <td>0</td>\n",
       "      <td>0</td>\n",
       "      <td>Male</td>\n",
       "      <td>43</td>\n",
       "      <td>Grade 8</td>\n",
       "      <td>Operative and kindred workers (nec)</td>\n",
       "      <td>1</td>\n",
       "    </tr>\n",
       "    <tr>\n",
       "      <th>1</th>\n",
       "      <td>0</td>\n",
       "      <td>0</td>\n",
       "      <td>0</td>\n",
       "      <td>0</td>\n",
       "      <td>Male</td>\n",
       "      <td>28</td>\n",
       "      <td>Grade 12</td>\n",
       "      <td>Managers, officials, and proprietors (nec)</td>\n",
       "      <td>2</td>\n",
       "    </tr>\n",
       "    <tr>\n",
       "      <th>2</th>\n",
       "      <td>3</td>\n",
       "      <td>0</td>\n",
       "      <td>0</td>\n",
       "      <td>15</td>\n",
       "      <td>Male</td>\n",
       "      <td>36</td>\n",
       "      <td>Grade 10</td>\n",
       "      <td>Foremen (nec)</td>\n",
       "      <td>1</td>\n",
       "    </tr>\n",
       "    <tr>\n",
       "      <th>3</th>\n",
       "      <td>0</td>\n",
       "      <td>0</td>\n",
       "      <td>0</td>\n",
       "      <td>0</td>\n",
       "      <td>Male</td>\n",
       "      <td>48</td>\n",
       "      <td>Grade 3</td>\n",
       "      <td>Managers, officials, and proprietors (nec)</td>\n",
       "      <td>1</td>\n",
       "    </tr>\n",
       "    <tr>\n",
       "      <th>4</th>\n",
       "      <td>2</td>\n",
       "      <td>2</td>\n",
       "      <td>0</td>\n",
       "      <td>2</td>\n",
       "      <td>Male</td>\n",
       "      <td>27</td>\n",
       "      <td>Grade 11</td>\n",
       "      <td>Salesmen and sales clerks (nec)</td>\n",
       "      <td>1</td>\n",
       "    </tr>\n",
       "  </tbody>\n",
       "</table>\n",
       "</div>"
      ],
      "text/plain": [
       "  nchild nchild_under_5 nsibs eldch   sex age ed_var_detailed  \\\n",
       "0      0              0     0     0  Male  43         Grade 8   \n",
       "1      0              0     0     0  Male  28        Grade 12   \n",
       "2      3              0     0    15  Male  36        Grade 10   \n",
       "3      0              0     0     0  Male  48         Grade 3   \n",
       "4      2              2     0     2  Male  27        Grade 11   \n",
       "\n",
       "                                      occ1950  ed_group_h  \n",
       "0         Operative and kindred workers (nec)           1  \n",
       "1  Managers, officials, and proprietors (nec)           2  \n",
       "2                               Foremen (nec)           1  \n",
       "3  Managers, officials, and proprietors (nec)           1  \n",
       "4             Salesmen and sales clerks (nec)           1  "
      ]
     },
     "execution_count": 24,
     "metadata": {},
     "output_type": "execute_result"
    }
   ],
   "source": [
    "census.head(5)"
   ]
  },
  {
   "cell_type": "markdown",
   "metadata": {},
   "source": [
    "#### Cleaning census['race']"
   ]
  },
  {
   "cell_type": "code",
   "execution_count": 25,
   "metadata": {},
   "outputs": [
    {
     "data": {
      "text/plain": [
       "array(['Male', 'Female'], dtype=object)"
      ]
     },
     "execution_count": 25,
     "metadata": {},
     "output_type": "execute_result"
    }
   ],
   "source": [
    "census['sex'].unique()"
   ]
  },
  {
   "cell_type": "code",
   "execution_count": 26,
   "metadata": {},
   "outputs": [],
   "source": [
    "gender_num = {'Male': 0, 'Female': 1}\n",
    "\n",
    "census['sex'] = census['sex'].map(gender_num)"
   ]
  },
  {
   "cell_type": "code",
   "execution_count": 27,
   "metadata": {},
   "outputs": [
    {
     "data": {
      "text/plain": [
       "array([0, 1], dtype=int64)"
      ]
     },
     "execution_count": 27,
     "metadata": {},
     "output_type": "execute_result"
    }
   ],
   "source": [
    "census['sex'].unique()"
   ]
  },
  {
   "cell_type": "code",
   "execution_count": 28,
   "metadata": {},
   "outputs": [
    {
     "data": {
      "text/plain": [
       "array(['Grade 8', 'Grade 12', 'Grade 10', 'Grade 3', 'Grade 11',\n",
       "       'Grade 2', 'Grade 4', '4 years of college', 'Grade 9', 'Grade 7',\n",
       "       '2 years of college', '1 year of college',\n",
       "       '6 years of college (6+ in 1960-1970)', 'Grade 6',\n",
       "       '5+ years of college', 'Grade 5', 'No schooling completed',\n",
       "       'Grade 1', 'Some college, but less than 1 year',\n",
       "       '3 years of college', 'Kindergarten'], dtype=object)"
      ]
     },
     "execution_count": 28,
     "metadata": {},
     "output_type": "execute_result"
    }
   ],
   "source": [
    "census['ed_var_detailed'].unique()"
   ]
  },
  {
   "cell_type": "code",
   "execution_count": 29,
   "metadata": {},
   "outputs": [],
   "source": [
    "educ_num = {'Grade 8': 11, \n",
    "            'Grade 12':16,\n",
    "            'Grade 10':14,\n",
    "            'Grade 3': 5,\n",
    "            'Grade 11': 15,\n",
    "            'Grade 2': 4,\n",
    "            'Grade 4': 6,\n",
    "            '4 years of college': 22,\n",
    "            'Grade 9': 12,\n",
    "            'Grade 7': 10,\n",
    "            '2 years of college': 19,\n",
    "            '1 year of college': 18,\n",
    "            '6 years of college (6+ in 1960-1970)': 26,\n",
    "            'Grade 6': 9,\n",
    "            '5+ years of college': 23,\n",
    "            'Grade 5': 7,\n",
    "            'No schooling completed': 1,\n",
    "            'Grade 1': 3,\n",
    "            'Some college, but less than 1 year': 17,\n",
    "            '3 years of college' : 20,\n",
    "            'Kindergarten': 1\n",
    "           }"
   ]
  },
  {
   "cell_type": "code",
   "execution_count": 30,
   "metadata": {},
   "outputs": [],
   "source": [
    "census['ed_var_detailed'] = census['ed_var_detailed'].map(educ_num)"
   ]
  },
  {
   "cell_type": "code",
   "execution_count": 31,
   "metadata": {},
   "outputs": [
    {
     "data": {
      "text/html": [
       "<div>\n",
       "<style scoped>\n",
       "    .dataframe tbody tr th:only-of-type {\n",
       "        vertical-align: middle;\n",
       "    }\n",
       "\n",
       "    .dataframe tbody tr th {\n",
       "        vertical-align: top;\n",
       "    }\n",
       "\n",
       "    .dataframe thead th {\n",
       "        text-align: right;\n",
       "    }\n",
       "</style>\n",
       "<table border=\"1\" class=\"dataframe\">\n",
       "  <thead>\n",
       "    <tr style=\"text-align: right;\">\n",
       "      <th></th>\n",
       "      <th>nchild</th>\n",
       "      <th>nchild_under_5</th>\n",
       "      <th>nsibs</th>\n",
       "      <th>eldch</th>\n",
       "      <th>sex</th>\n",
       "      <th>age</th>\n",
       "      <th>ed_var_detailed</th>\n",
       "      <th>occ1950</th>\n",
       "      <th>ed_group_h</th>\n",
       "    </tr>\n",
       "  </thead>\n",
       "  <tbody>\n",
       "    <tr>\n",
       "      <th>0</th>\n",
       "      <td>0</td>\n",
       "      <td>0</td>\n",
       "      <td>0</td>\n",
       "      <td>0</td>\n",
       "      <td>0</td>\n",
       "      <td>43</td>\n",
       "      <td>11</td>\n",
       "      <td>Operative and kindred workers (nec)</td>\n",
       "      <td>1</td>\n",
       "    </tr>\n",
       "    <tr>\n",
       "      <th>1</th>\n",
       "      <td>0</td>\n",
       "      <td>0</td>\n",
       "      <td>0</td>\n",
       "      <td>0</td>\n",
       "      <td>0</td>\n",
       "      <td>28</td>\n",
       "      <td>16</td>\n",
       "      <td>Managers, officials, and proprietors (nec)</td>\n",
       "      <td>2</td>\n",
       "    </tr>\n",
       "    <tr>\n",
       "      <th>2</th>\n",
       "      <td>3</td>\n",
       "      <td>0</td>\n",
       "      <td>0</td>\n",
       "      <td>15</td>\n",
       "      <td>0</td>\n",
       "      <td>36</td>\n",
       "      <td>14</td>\n",
       "      <td>Foremen (nec)</td>\n",
       "      <td>1</td>\n",
       "    </tr>\n",
       "    <tr>\n",
       "      <th>3</th>\n",
       "      <td>0</td>\n",
       "      <td>0</td>\n",
       "      <td>0</td>\n",
       "      <td>0</td>\n",
       "      <td>0</td>\n",
       "      <td>48</td>\n",
       "      <td>5</td>\n",
       "      <td>Managers, officials, and proprietors (nec)</td>\n",
       "      <td>1</td>\n",
       "    </tr>\n",
       "    <tr>\n",
       "      <th>4</th>\n",
       "      <td>2</td>\n",
       "      <td>2</td>\n",
       "      <td>0</td>\n",
       "      <td>2</td>\n",
       "      <td>0</td>\n",
       "      <td>27</td>\n",
       "      <td>15</td>\n",
       "      <td>Salesmen and sales clerks (nec)</td>\n",
       "      <td>1</td>\n",
       "    </tr>\n",
       "  </tbody>\n",
       "</table>\n",
       "</div>"
      ],
      "text/plain": [
       "  nchild nchild_under_5 nsibs eldch  sex age  ed_var_detailed  \\\n",
       "0      0              0     0     0    0  43               11   \n",
       "1      0              0     0     0    0  28               16   \n",
       "2      3              0     0    15    0  36               14   \n",
       "3      0              0     0     0    0  48                5   \n",
       "4      2              2     0     2    0  27               15   \n",
       "\n",
       "                                      occ1950  ed_group_h  \n",
       "0         Operative and kindred workers (nec)           1  \n",
       "1  Managers, officials, and proprietors (nec)           2  \n",
       "2                               Foremen (nec)           1  \n",
       "3  Managers, officials, and proprietors (nec)           1  \n",
       "4             Salesmen and sales clerks (nec)           1  "
      ]
     },
     "execution_count": 31,
     "metadata": {},
     "output_type": "execute_result"
    }
   ],
   "source": [
    "census.head(5)"
   ]
  },
  {
   "cell_type": "code",
   "execution_count": 32,
   "metadata": {},
   "outputs": [
    {
     "data": {
      "text/plain": [
       "array(['Operative and kindred workers (nec)',\n",
       "       'Managers, officials, and proprietors (nec)', 'Foremen (nec)',\n",
       "       'Salesmen and sales clerks (nec)',\n",
       "       'Purchasing agents and buyers (nec)', 'N/A (blank)',\n",
       "       'Lumbermen, raftsmen, and woodchoppers', 'Bookkeepers',\n",
       "       'Carpenters', 'Clerical and kindred workers (n.e.c.)',\n",
       "       'Gardeners, except farm and groundskeepers',\n",
       "       'Farmers (owners and tenants)', 'Members of the armed services',\n",
       "       'Officials, lodge, society, union, etc.', 'Pharmacists',\n",
       "       'Occupation missing/unknown', 'Biological scientists',\n",
       "       'Deliverymen and routemen', 'Sawyers', 'Janitors and sextons',\n",
       "       'Technicians (nec)', 'Stationary engineers', 'Machinists',\n",
       "       'Mechanics and repairmen (nec)',\n",
       "       'Filers, grinders, and polishers, metal',\n",
       "       'Attendants, recreation and amusement',\n",
       "       'Barbers, beauticians, and manicurists',\n",
       "       'Tool makers, and die makers and setters', 'Testing-technicians',\n",
       "       'Laborers (nec)', 'Teachers (n.e.c.)',\n",
       "       'Personnel and labor relations workers',\n",
       "       'Painters, except construction or maintenance',\n",
       "       'Farm laborers, wage workers', 'Foresters and conservationists',\n",
       "       'Draftsmen', 'Mechanical-Engineers', 'Policemen and detectives',\n",
       "       'Editors and reporters', 'Stationary firemen',\n",
       "       'Musicians and music teachers', 'Clergymen',\n",
       "       'Meat cutters, except slaughter and packing house',\n",
       "       'Plumbers and pipe fitters', 'Waiters and waitresses',\n",
       "       'Private household workers (nec)', 'Charwomen and cleaners',\n",
       "       'Civil-Engineers', 'Painters, construction and maintenance',\n",
       "       'Accountants and auditors',\n",
       "       'Linemen and servicemen, telegraph, telephone, and power',\n",
       "       'Dentists', 'Artists and art teachers',\n",
       "       'Stenographers, typists, and secretaries', 'Cabinetmakers',\n",
       "       'Bartenders', 'Attendants, hospital and other institution',\n",
       "       'Brickmasons,stonemasons, and tile setters', 'Bus drivers',\n",
       "       'Sailors and deck hands', 'Bookbinders',\n",
       "       'Insurance agents and brokers', 'Welders and flame cutters',\n",
       "       'Officers, pilots, pursers and engineers, ship',\n",
       "       'Automobile-mechanics and repairmen', 'Paperhangers',\n",
       "       'Mail carriers', 'Guards, watchmen, and doorkeepers',\n",
       "       'Mine operatives and laborers', 'Truck and tractor drivers',\n",
       "       'Therapists and healers (nec)', 'Switchmen, railroad',\n",
       "       'Taxicab drivers and chauffeurs', 'Physicians and surgeons',\n",
       "       'Porters', 'Shipping and receiving clerks', 'Electricians',\n",
       "       'Garage laborers and car washers and greasers',\n",
       "       'Office machine operators',\n",
       "       'Officials and administratators (nec), public administration',\n",
       "       'Excavating, grading, and road machinery operators',\n",
       "       'Tinsmiths, coppersmiths, and sheet metal workers',\n",
       "       'Oilers and greaser, except auto', 'Conductors, railroad',\n",
       "       'Cranemen,derrickmen, and hoistmen', 'Boilermakers',\n",
       "       'Weavers, textile', 'Medical and dental-technicians', 'Cashiers',\n",
       "       'Molders, metal', 'Photographers', 'Stock and bond salesmen',\n",
       "       'Pressmen and plate printers, printing',\n",
       "       'Counter and fountain workers', 'Industrial-Engineers',\n",
       "       'Professional, technical and kindred workers (nec)',\n",
       "       'Social and welfare workers, except group', 'Nurses, professional',\n",
       "       'Lawyers and judges', 'Aeronautical-Engineers',\n",
       "       'Entertainers (nec)', 'Designers', 'Electrical-Engineers',\n",
       "       'Compositors and typesetters', 'Bank tellers',\n",
       "       'Roofers and slaters', 'Ticket, station, and express agents',\n",
       "       'Brakemen, railroad', 'Airplane-mechanics and repairmen',\n",
       "       'Boatmen, canalmen, and lock keepers',\n",
       "       'Airplane pilots and navigators', 'Locomotive firemen',\n",
       "       'Agents (nec)', 'Service workers, except private household (nec)',\n",
       "       'Chemists', 'Optometrists',\n",
       "       'Radio and television-mechanics and repairmen',\n",
       "       'Misc. natural scientists', 'Furnacemen, smeltermen and pourers',\n",
       "       'Telephone operators', 'Real estate agents and brokers',\n",
       "       'Housekeepers and stewards, except private household',\n",
       "       'Millwrights', 'Buyers and dept heads, store', 'Newsboys',\n",
       "       'Engineers (nec)', 'Farm managers', 'Psychologists',\n",
       "       'Apprentices, trade not specified', 'Firemen, fire protection',\n",
       "       'Structural metal workers', 'Locomotive engineers',\n",
       "       'Shoemakers and repairers, except factory',\n",
       "       'Craftsmen and kindred workers (nec)', 'Plasterers',\n",
       "       'Attendants, auto service and parking',\n",
       "       'Collectors, bill and account', 'Tailors and tailoresses',\n",
       "       'Jewelers, watchmakers, goldsmiths, and silversmiths',\n",
       "       'Loom fixers', 'Inspectors, public administration',\n",
       "       'Cooks, except private household', 'Credit men', 'Bakers',\n",
       "       'Laundry and dry cleaning Operatives',\n",
       "       'Cement and concrete finishers', 'Authors',\n",
       "       'Sports instructors and officials', 'College presidents and deans',\n",
       "       'Fishermen and oystermen',\n",
       "       'Managers and superintendants, building',\n",
       "       'Social sciences (nec)-Professors and instructors',\n",
       "       'Hucksters and peddlers', 'Surveyors',\n",
       "       'Photographic process workers',\n",
       "       'Heat treaters, annealers, temperers',\n",
       "       'Dispatchers and starters, vehicle', 'Farm foremen',\n",
       "       'Practical nurses', 'Power station operators',\n",
       "       'Geologists and geophysicists',\n",
       "       'Subject not specified-Professors and instructors',\n",
       "       'Office machine-mechanics and repairmen',\n",
       "       'Attendants, professional and personal service (nec)',\n",
       "       'Advertising agents and salesmen', 'Dietitians and nutritionists',\n",
       "       'Recreation and group workers', 'Blacksmiths', 'Upholsterers',\n",
       "       'Ushers, recreation and amusement', 'Architects',\n",
       "       'Engineering-Professors and instructors', 'Postmasters',\n",
       "       'Elevator operators',\n",
       "       'Railroad and car shop-mechanics and repairmen',\n",
       "       'Funeral directors and embalmers',\n",
       "       'Decorators and window dressers', 'Forgemen and hammermen',\n",
       "       'Watchmen (crossing) and bridge tenders', 'Inspectors (nec)',\n",
       "       'Farm laborers, unpaid family workers',\n",
       "       'Motormen, mine, factory, logging camp, etc',\n",
       "       'Bricklayers and masons apprentice', 'Job setters, metal',\n",
       "       'Non-scientific subjects-Professors and instructors',\n",
       "       'Mining-Engineers', 'Sheriffs and bailiffs', 'Physicists',\n",
       "       'Mathematics-Professors and instructors',\n",
       "       'Opticians and lens grinders and polishers',\n",
       "       'Buyers and shippers, farm products', 'Spinners, textile',\n",
       "       'Teamsters', 'Chainmen, rodmen, and axmen, surveying',\n",
       "       'Metallurgical, metallurgists-Engineers',\n",
       "       'Mechanics, except auto apprentice',\n",
       "       'Inspectors, scalers, and graders log and lumber',\n",
       "       'Economics-Professors and instructors',\n",
       "       'Longshoremen and stevedores', 'Agricultural scientists',\n",
       "       'Pattern and model makers, except paper', 'Librarians',\n",
       "       'Attendants, physicians and dentists office', 'Chemical-Engineers',\n",
       "       'Boarding and lodging house keepers', 'Economists',\n",
       "       'Medical Sciences-Professors and instructors',\n",
       "       'Electrotypers and stereotypers',\n",
       "       'Physics-Professors and instructors', 'Veterinarians',\n",
       "       'Machinists and toolmakers apprentice', 'Radio operators',\n",
       "       'Biological sciences-Professors and instructors',\n",
       "       'Farm service laborers, self-employed',\n",
       "       'Motion picture projectionists', 'Rollers and roll hands, metal',\n",
       "       'Express messengers and railway mail clerks', 'Heaters, metal',\n",
       "       'Stone cutters and stone carvers', 'Religious workers',\n",
       "       'Plumbers and pipe fitters apprentice',\n",
       "       'Messengers and office boys', 'Farm and home management advisors',\n",
       "       'Telegraph operators', 'Photoengravers and lithographers',\n",
       "       'Electricians apprentice', 'Asbestos and insulation workers',\n",
       "       'Baggagemen, transportation', 'Engravers, except photoengravers',\n",
       "       'Actors and actresses', 'Glaziers',\n",
       "       'Dressmakers and seamstresses, except factory',\n",
       "       'Agricultural sciences-Professors and instructors', 'Osteopaths',\n",
       "       'Auctioneers', 'Motormen, street, subway, and elevated railway',\n",
       "       'Floormen and floor managers, store', 'Marshals and constables',\n",
       "       'Fruit, nut, and vegetable graders, and packers, except facto',\n",
       "       'Blasters and powdermen', 'Conductors, bus and street railway',\n",
       "       'Dyers', 'Chiropractors', 'Piano and organ tuners and repairmen',\n",
       "       'Attendants and assistants, library',\n",
       "       'Dancers and dancing teachers', 'Auto mechanics apprentice',\n",
       "       'Chemistry-Professors and instructors',\n",
       "       'Housekeepers, private household', 'Athletes',\n",
       "       'Apprentices, printing  trades',\n",
       "       'Millers, grain, flour, feed, etc', 'Furriers',\n",
       "       'Laundresses, private household',\n",
       "       'Apprentices, metalworking trades (nec)', 'Carpenters apprentice',\n",
       "       'Geology and geophysics-Professors and instructors',\n",
       "       'Statisticians and actuaries',\n",
       "       'Psychology-Professors and instructors',\n",
       "       'Statistics-Professors and instructors',\n",
       "       'Apprentices, other specified trades', 'Misc social scientists',\n",
       "       'Mathematicians', 'Telegraph messengers', 'Demonstrators',\n",
       "       'Apprentices, building trades (nec)', 'Bootblacks', 'Milliners',\n",
       "       'Nurses, student professional',\n",
       "       'Natural science (nec)-Professors and instructors'], dtype=object)"
      ]
     },
     "execution_count": 32,
     "metadata": {},
     "output_type": "execute_result"
    }
   ],
   "source": [
    "census['occ1950'].unique()"
   ]
  },
  {
   "cell_type": "code",
   "execution_count": 33,
   "metadata": {},
   "outputs": [],
   "source": [
    "census['occ1950'] = np.where((census['occ1950'] == 'N/A (blank)'),\n",
    "                           float('nan'), census['occ1950'])\n",
    "\n",
    "census['occ1950'] = np.where((census['occ1950'] == 'Occupation missing/unknown'),\n",
    "                           float('nan'), census['occ1950'])"
   ]
  },
  {
   "cell_type": "code",
   "execution_count": 34,
   "metadata": {},
   "outputs": [
    {
     "data": {
      "text/plain": [
       "Managers, officials, and proprietors (nec)          20008\n",
       "Operative and kindred workers (nec)                 18036\n",
       "Farmers (owners and tenants)                        11413\n",
       "Salesmen and sales clerks (nec)                      9966\n",
       "Laborers (nec)                                       8336\n",
       "                                                    ...  \n",
       "Statistics-Professors and instructors                   2\n",
       "Auto mechanics apprentice                               2\n",
       "Milliners                                               1\n",
       "Nurses, student professional                            1\n",
       "Natural science (nec)-Professors and instructors        1\n",
       "Name: occ1950, Length: 268, dtype: int64"
      ]
     },
     "execution_count": 34,
     "metadata": {},
     "output_type": "execute_result"
    }
   ],
   "source": [
    "census['occ1950'].value_counts()"
   ]
  },
  {
   "cell_type": "code",
   "execution_count": 35,
   "metadata": {},
   "outputs": [],
   "source": [
    "census = census.dropna()"
   ]
  },
  {
   "cell_type": "code",
   "execution_count": 36,
   "metadata": {},
   "outputs": [
    {
     "data": {
      "text/plain": [
       "nchild             0\n",
       "nchild_under_5     0\n",
       "nsibs              0\n",
       "eldch              0\n",
       "sex                0\n",
       "age                0\n",
       "ed_var_detailed    0\n",
       "occ1950            0\n",
       "ed_group_h         0\n",
       "dtype: int64"
      ]
     },
     "execution_count": 36,
     "metadata": {},
     "output_type": "execute_result"
    }
   ],
   "source": [
    "census.isnull().sum()"
   ]
  },
  {
   "cell_type": "code",
   "execution_count": 38,
   "metadata": {},
   "outputs": [
    {
     "name": "stdout",
     "output_type": "stream",
     "text": [
      "0    0\n",
      "1    1\n",
      "2    2\n",
      "3    1\n",
      "4    3\n",
      "Name: occ1950, dtype: int64\n",
      "Index(['Operative and kindred workers (nec)',\n",
      "       'Managers, officials, and proprietors (nec)', 'Foremen (nec)',\n",
      "       'Salesmen and sales clerks (nec)', 'Purchasing agents and buyers (nec)',\n",
      "       'Lumbermen, raftsmen, and woodchoppers', 'Bookkeepers', 'Carpenters',\n",
      "       'Clerical and kindred workers (n.e.c.)',\n",
      "       'Gardeners, except farm and groundskeepers',\n",
      "       ...\n",
      "       'Apprentices, other specified trades', 'Misc social scientists',\n",
      "       'Mathematicians', 'Telegraph messengers', 'Demonstrators',\n",
      "       'Apprentices, building trades (nec)', 'Bootblacks', 'Milliners',\n",
      "       'Nurses, student professional',\n",
      "       'Natural science (nec)-Professors and instructors'],\n",
      "      dtype='object', length=268)\n"
     ]
    }
   ],
   "source": [
    "#one-hot encoding for jobs strings\n",
    "factor = pd.factorize(census['occ1950'])\n",
    "census.occ1950 = factor[0]\n",
    "definitions = factor[1]\n",
    "print(census.occ1950.head())\n",
    "print(definitions)\n",
    "#census['occ1950_encoded'] = pd.factorize(census.occ1950)[0]\n",
    "#census.head(10)"
   ]
  },
  {
   "cell_type": "code",
   "execution_count": 39,
   "metadata": {},
   "outputs": [],
   "source": [
    "#census.drop(['occ1950'], axis=1, inplace=True)"
   ]
  },
  {
   "cell_type": "code",
   "execution_count": 40,
   "metadata": {},
   "outputs": [
    {
     "data": {
      "text/html": [
       "<div>\n",
       "<style scoped>\n",
       "    .dataframe tbody tr th:only-of-type {\n",
       "        vertical-align: middle;\n",
       "    }\n",
       "\n",
       "    .dataframe tbody tr th {\n",
       "        vertical-align: top;\n",
       "    }\n",
       "\n",
       "    .dataframe thead th {\n",
       "        text-align: right;\n",
       "    }\n",
       "</style>\n",
       "<table border=\"1\" class=\"dataframe\">\n",
       "  <thead>\n",
       "    <tr style=\"text-align: right;\">\n",
       "      <th></th>\n",
       "      <th>nchild</th>\n",
       "      <th>nchild_under_5</th>\n",
       "      <th>nsibs</th>\n",
       "      <th>eldch</th>\n",
       "      <th>sex</th>\n",
       "      <th>age</th>\n",
       "      <th>ed_var_detailed</th>\n",
       "      <th>occ1950</th>\n",
       "      <th>ed_group_h</th>\n",
       "    </tr>\n",
       "  </thead>\n",
       "  <tbody>\n",
       "    <tr>\n",
       "      <th>0</th>\n",
       "      <td>0</td>\n",
       "      <td>0</td>\n",
       "      <td>0</td>\n",
       "      <td>0</td>\n",
       "      <td>0</td>\n",
       "      <td>43</td>\n",
       "      <td>11</td>\n",
       "      <td>0</td>\n",
       "      <td>1</td>\n",
       "    </tr>\n",
       "    <tr>\n",
       "      <th>1</th>\n",
       "      <td>0</td>\n",
       "      <td>0</td>\n",
       "      <td>0</td>\n",
       "      <td>0</td>\n",
       "      <td>0</td>\n",
       "      <td>28</td>\n",
       "      <td>16</td>\n",
       "      <td>1</td>\n",
       "      <td>2</td>\n",
       "    </tr>\n",
       "    <tr>\n",
       "      <th>2</th>\n",
       "      <td>3</td>\n",
       "      <td>0</td>\n",
       "      <td>0</td>\n",
       "      <td>15</td>\n",
       "      <td>0</td>\n",
       "      <td>36</td>\n",
       "      <td>14</td>\n",
       "      <td>2</td>\n",
       "      <td>1</td>\n",
       "    </tr>\n",
       "    <tr>\n",
       "      <th>3</th>\n",
       "      <td>0</td>\n",
       "      <td>0</td>\n",
       "      <td>0</td>\n",
       "      <td>0</td>\n",
       "      <td>0</td>\n",
       "      <td>48</td>\n",
       "      <td>5</td>\n",
       "      <td>1</td>\n",
       "      <td>1</td>\n",
       "    </tr>\n",
       "    <tr>\n",
       "      <th>4</th>\n",
       "      <td>2</td>\n",
       "      <td>2</td>\n",
       "      <td>0</td>\n",
       "      <td>2</td>\n",
       "      <td>0</td>\n",
       "      <td>27</td>\n",
       "      <td>15</td>\n",
       "      <td>3</td>\n",
       "      <td>1</td>\n",
       "    </tr>\n",
       "    <tr>\n",
       "      <th>5</th>\n",
       "      <td>0</td>\n",
       "      <td>0</td>\n",
       "      <td>0</td>\n",
       "      <td>0</td>\n",
       "      <td>0</td>\n",
       "      <td>60</td>\n",
       "      <td>16</td>\n",
       "      <td>4</td>\n",
       "      <td>2</td>\n",
       "    </tr>\n",
       "    <tr>\n",
       "      <th>7</th>\n",
       "      <td>0</td>\n",
       "      <td>0</td>\n",
       "      <td>0</td>\n",
       "      <td>0</td>\n",
       "      <td>0</td>\n",
       "      <td>69</td>\n",
       "      <td>6</td>\n",
       "      <td>5</td>\n",
       "      <td>1</td>\n",
       "    </tr>\n",
       "    <tr>\n",
       "      <th>8</th>\n",
       "      <td>0</td>\n",
       "      <td>0</td>\n",
       "      <td>0</td>\n",
       "      <td>0</td>\n",
       "      <td>0</td>\n",
       "      <td>44</td>\n",
       "      <td>11</td>\n",
       "      <td>1</td>\n",
       "      <td>1</td>\n",
       "    </tr>\n",
       "    <tr>\n",
       "      <th>9</th>\n",
       "      <td>0</td>\n",
       "      <td>0</td>\n",
       "      <td>1</td>\n",
       "      <td>0</td>\n",
       "      <td>0</td>\n",
       "      <td>54</td>\n",
       "      <td>22</td>\n",
       "      <td>6</td>\n",
       "      <td>4</td>\n",
       "    </tr>\n",
       "    <tr>\n",
       "      <th>10</th>\n",
       "      <td>0</td>\n",
       "      <td>0</td>\n",
       "      <td>0</td>\n",
       "      <td>0</td>\n",
       "      <td>0</td>\n",
       "      <td>73</td>\n",
       "      <td>12</td>\n",
       "      <td>2</td>\n",
       "      <td>1</td>\n",
       "    </tr>\n",
       "    <tr>\n",
       "      <th>11</th>\n",
       "      <td>4</td>\n",
       "      <td>0</td>\n",
       "      <td>0</td>\n",
       "      <td>21</td>\n",
       "      <td>0</td>\n",
       "      <td>55</td>\n",
       "      <td>11</td>\n",
       "      <td>7</td>\n",
       "      <td>1</td>\n",
       "    </tr>\n",
       "    <tr>\n",
       "      <th>12</th>\n",
       "      <td>0</td>\n",
       "      <td>0</td>\n",
       "      <td>0</td>\n",
       "      <td>0</td>\n",
       "      <td>1</td>\n",
       "      <td>47</td>\n",
       "      <td>14</td>\n",
       "      <td>8</td>\n",
       "      <td>1</td>\n",
       "    </tr>\n",
       "    <tr>\n",
       "      <th>13</th>\n",
       "      <td>0</td>\n",
       "      <td>0</td>\n",
       "      <td>0</td>\n",
       "      <td>0</td>\n",
       "      <td>0</td>\n",
       "      <td>53</td>\n",
       "      <td>10</td>\n",
       "      <td>9</td>\n",
       "      <td>1</td>\n",
       "    </tr>\n",
       "    <tr>\n",
       "      <th>14</th>\n",
       "      <td>2</td>\n",
       "      <td>0</td>\n",
       "      <td>0</td>\n",
       "      <td>12</td>\n",
       "      <td>0</td>\n",
       "      <td>43</td>\n",
       "      <td>19</td>\n",
       "      <td>1</td>\n",
       "      <td>3</td>\n",
       "    </tr>\n",
       "    <tr>\n",
       "      <th>15</th>\n",
       "      <td>0</td>\n",
       "      <td>0</td>\n",
       "      <td>0</td>\n",
       "      <td>0</td>\n",
       "      <td>0</td>\n",
       "      <td>44</td>\n",
       "      <td>14</td>\n",
       "      <td>0</td>\n",
       "      <td>1</td>\n",
       "    </tr>\n",
       "  </tbody>\n",
       "</table>\n",
       "</div>"
      ],
      "text/plain": [
       "   nchild nchild_under_5 nsibs eldch  sex age  ed_var_detailed  occ1950  \\\n",
       "0       0              0     0     0    0  43               11        0   \n",
       "1       0              0     0     0    0  28               16        1   \n",
       "2       3              0     0    15    0  36               14        2   \n",
       "3       0              0     0     0    0  48                5        1   \n",
       "4       2              2     0     2    0  27               15        3   \n",
       "5       0              0     0     0    0  60               16        4   \n",
       "7       0              0     0     0    0  69                6        5   \n",
       "8       0              0     0     0    0  44               11        1   \n",
       "9       0              0     1     0    0  54               22        6   \n",
       "10      0              0     0     0    0  73               12        2   \n",
       "11      4              0     0    21    0  55               11        7   \n",
       "12      0              0     0     0    1  47               14        8   \n",
       "13      0              0     0     0    0  53               10        9   \n",
       "14      2              0     0    12    0  43               19        1   \n",
       "15      0              0     0     0    0  44               14        0   \n",
       "\n",
       "    ed_group_h  \n",
       "0            1  \n",
       "1            2  \n",
       "2            1  \n",
       "3            1  \n",
       "4            1  \n",
       "5            2  \n",
       "7            1  \n",
       "8            1  \n",
       "9            4  \n",
       "10           1  \n",
       "11           1  \n",
       "12           1  \n",
       "13           1  \n",
       "14           3  \n",
       "15           1  "
      ]
     },
     "execution_count": 40,
     "metadata": {},
     "output_type": "execute_result"
    }
   ],
   "source": [
    "census.head(15)"
   ]
  },
  {
   "cell_type": "code",
   "execution_count": 41,
   "metadata": {
    "scrolled": true
   },
   "outputs": [
    {
     "name": "stdout",
     "output_type": "stream",
     "text": [
      "{0.0: 'Accountants and auditors', 10.0: 'Actors and actresses', 12.0: 'Airplane pilots and navigators', 13.0: 'Architects', 14.0: 'Artists and art teachers', 15.0: 'Athletes', 20.0: 'Authors', 21.0: 'Chemists', 22.0: 'Chiropractors', 23.0: 'Clergymen', 30.0: 'College presidents and deans', 31.0: 'Agricultural sciences-Professors and instructors', 32.0: 'Biological sciences-Professors and instructors', 34.0: 'Chemistry-Professors and instructors', 35.0: 'Economics-Professors and instructors', 40.0: 'Engineering-Professors and instructors', 41.0: 'Geology and geophysics-Professors and instructors', 42.0: 'Mathematics-Professors and instructors', 43.0: 'Medical Sciences-Professors and instructors', 45.0: 'Physics-Professors and instructors', 50.0: 'Psychology-Professors and instructors', 51.0: 'Statistics-Professors and instructors', 52.0: 'Natural science (nec)-Professors and instructors', 53.0: 'Social sciences (nec)-Professors and instructors', 54.0: 'Non-scientific subjects-Professors and instructors', 60.0: 'Subject not specified-Professors and instructors', 70.0: 'Dancers and dancing teachers', 71.0: 'Dentists', 72.0: 'Designers', 73.0: 'Dietitians and nutritionists', 74.0: 'Draftsmen', 75.0: 'Editors and reporters', 80.0: 'Aeronautical-Engineers', 81.0: 'Chemical-Engineers', 82.0: 'Civil-Engineers', 83.0: 'Electrical-Engineers', 84.0: 'Industrial-Engineers', 85.0: 'Mechanical-Engineers', 90.0: 'Metallurgical, metallurgists-Engineers', 91.0: 'Mining-Engineers', 92.0: 'Engineers (nec)', 93.0: 'Engineers (nec)', 101.0: 'Entertainers (nec)', 102.0: 'Farm and home management advisors', 103.0: 'Foresters and conservationists', 104.0: 'Funeral directors and embalmers', 105.0: 'Lawyers and judges', 111.0: 'Librarians', 120.0: 'Musicians and music teachers', 130.0: 'Agricultural scientists', 131.0: 'Biological scientists', 134.0: 'Geologists and geophysicists', 135.0: 'Mathematicians', 140.0: 'Physicists', 145.0: 'Misc. natural scientists', 150.0: 'Nurses, professional', 151.0: 'Nurses, student professional', 152.0: 'Optometrists', 153.0: 'Osteopaths', 154.0: 'Personnel and labor relations workers', 160.0: 'Pharmacists', 161.0: 'Photographers', 162.0: 'Physicians and surgeons', 163.0: 'Editors and reporters', 164.0: 'Radio operators', 165.0: 'Recreation and group workers', 170.0: 'Religious workers', 171.0: 'Social and welfare workers, except group', 172.0: 'Economists', 173.0: 'Psychologists', 174.0: 'Statisticians and actuaries', 175.0: 'Misc social scientists', 180.0: 'Sports instructors and officials', 181.0: 'Surveyors', 182.0: 'Teachers (n.e.c.)', 185.0: 'Medical and dental-technicians', 190.0: 'Technicians (nec)', 191.0: 'Testing-technicians', 193.0: 'Therapists and healers (nec)', 194.0: 'Veterinarians', 195.0: 'Professional, technical and kindred workers (nec)', 200.0: 'Farmers (owners and tenants)', 222.0: 'Farm managers', 250.0: 'Buyers and dept heads, store', 251.0: 'Buyers and shippers, farm products', 252.0: 'Conductors, railroad', 253.0: 'Credit men', 254.0: 'Floormen and floor managers, store', 260.0: 'Inspectors, public administration', 262.0: 'Managers and superintendants, building', 265.0: 'Officers, pilots, pursers and engineers, ship', 270.0: 'Officials and administratators (nec), public administration', 275.0: 'Officials, lodge, society, union, etc.', 280.0: 'Postmasters', 285.0: 'Purchasing agents and buyers (nec)', 290.0: 'Managers, officials, and proprietors (nec)', 301.0: 'Agents (nec)', 302.0: 'Attendants and assistants, library', 303.0: 'Attendants, physicians and dentists office', 304.0: 'Baggagemen, transportation', 305.0: 'Bank tellers', 310.0: 'Bookkeepers', 312.0: 'Cashiers', 313.0: 'Collectors, bill and account', 314.0: 'Dispatchers and starters, vehicle', 315.0: 'Express messengers and railway mail clerks', 320.0: 'Clerical and kindred workers (n.e.c.)', 321.0: 'Insurance agents and brokers', 323.0: 'Mail carriers', 324.0: 'Messengers and office boys', 325.0: 'Office machine operators', 342.0: 'Stenographers, typists, and secretaries', 343.0: 'Shipping and receiving clerks', 351.0: 'Telegraph messengers', 352.0: 'Telegraph operators', 353.0: 'Telephone operators', 354.0: 'Ticket, station, and express agents', 380.0: 'Advertising agents and salesmen', 381.0: 'Auctioneers', 382.0: 'Demonstrators', 383.0: 'Hucksters and peddlers', 390.0: 'Newsboys', 393.0: 'Real estate agents and brokers', 394.0: 'Salesmen and sales clerks (nec)', 395.0: 'Stock and bond salesmen', 401.0: 'Bakers', 402.0: 'Blacksmiths', 403.0: 'Boilermakers', 404.0: 'Bookbinders', 405.0: 'Brickmasons,stonemasons, and tile setters', 410.0: 'Cabinetmakers', 411.0: 'Carpenters', 413.0: 'Cement and concrete finishers', 414.0: 'Compositors and typesetters', 415.0: 'Cranemen,derrickmen, and hoistmen', 420.0: 'Decorators and window dressers', 421.0: 'Electricians', 423.0: 'Electrotypers and stereotypers', 424.0: 'Engravers, except photoengravers', 425.0: 'Excavating, grading, and road machinery operators', 430.0: 'Foremen (nec)', 431.0: 'Forgemen and hammermen', 432.0: 'Furriers', 434.0: 'Glaziers', 435.0: 'Heat treaters, annealers, temperers', 444.0: 'Inspectors, scalers, and graders log and lumber', 450.0: 'Inspectors (nec)', 451.0: 'Jewelers, watchmakers, goldsmiths, and silversmiths', 452.0: 'Job setters, metal', 453.0: 'Linemen and servicemen, telegraph, telephone, and power', 454.0: 'Locomotive engineers', 460.0: 'Locomotive firemen', 461.0: 'Loom fixers', 465.0: 'Machinists', 470.0: 'Mechanics and repairmen (nec)', 471.0: 'Airplane-mechanics and repairmen', 472.0: 'Automobile-mechanics and repairmen', 473.0: 'Office machine-mechanics and repairmen', 474.0: 'Radio and television-mechanics and repairmen', 475.0: 'Railroad and car shop-mechanics and repairmen', 490.0: 'Millers, grain, flour, feed, etc', 491.0: 'Millwrights', 492.0: 'Molders, metal', 493.0: 'Motion picture projectionists', 494.0: 'Opticians and lens grinders and polishers', 495.0: 'Painters, construction and maintenance', 501.0: 'Paperhangers', 502.0: 'Pattern and model makers, except paper', 503.0: 'Photoengravers and lithographers', 504.0: 'Piano and organ tuners and repairmen', 505.0: 'Plasterers', 510.0: 'Plumbers and pipe fitters', 512.0: 'Pressmen and plate printers, printing', 513.0: 'Rollers and roll hands, metal', 514.0: 'Roofers and slaters', 515.0: 'Shoemakers and repairers, except factory', 520.0: 'Stationary engineers', 521.0: 'Stone cutters and stone carvers', 523.0: 'Structural metal workers', 524.0: 'Tailors and tailoresses', 525.0: 'Tinsmiths, coppersmiths, and sheet metal workers', 530.0: 'Tool makers, and die makers and setters', 535.0: 'Upholsterers', 545.0: 'Craftsmen and kindred workers (nec)', 601.0: 'Auto mechanics apprentice', 602.0: 'Bricklayers and masons apprentice', 603.0: 'Carpenters apprentice', 604.0: 'Electricians apprentice', 605.0: 'Machinists and toolmakers apprentice', 610.0: 'Mechanics, except auto apprentice', 612.0: 'Plumbers and pipe fitters apprentice', 613.0: 'Apprentices, building trades (nec)', 614.0: 'Apprentices, metalworking trades (nec)', 615.0: 'Apprentices, printing  trades', 620.0: 'Apprentices, other specified trades', 621.0: 'Apprentices, trade not specified', 630.0: 'Asbestos and insulation workers', 631.0: 'Operative and kindred workers (nec)', 632.0: 'Attendants, auto service and parking', 634.0: 'Blasters and powdermen', 635.0: 'Boatmen, canalmen, and lock keepers', 640.0: 'Brakemen, railroad', 641.0: 'Bus drivers', 642.0: 'Chainmen, rodmen, and axmen, surveying', 645.0: 'Conductors, bus and street railway', 650.0: 'Deliverymen and routemen', 651.0: 'Dressmakers and seamstresses, except factory', 652.0: 'Dyers', 653.0: 'Filers, grinders, and polishers, metal', 654.0: 'Fruit, nut, and vegetable graders, and packers, except facto', 670.0: 'Furnacemen, smeltermen and pourers', 672.0: 'Heaters, metal', 674.0: 'Laundry and dry cleaning Operatives', 675.0: 'Meat cutters, except slaughter and packing house', 680.0: 'Milliners', 685.0: 'Mine operatives and laborers', 690.0: 'Motormen, mine, factory, logging camp, etc', 691.0: 'Motormen, street, subway, and elevated railway', 692.0: 'Oilers and greaser, except auto', 694.0: 'Painters, except construction or maintenance', 695.0: 'Photographic process workers', 701.0: 'Power station operators', 703.0: 'Sailors and deck hands', 704.0: 'Sawyers', 710.0: 'Spinners, textile', 712.0: 'Stationary firemen', 713.0: 'Switchmen, railroad', 714.0: 'Taxicab drivers and chauffeurs', 715.0: 'Truck and tractor drivers', 720.0: 'Weavers, textile', 721.0: 'Welders and flame cutters', 801.0: 'Private household workers (nec)', 802.0: 'Housekeepers, private household', 803.0: 'Laundresses, private household', 810.0: 'Attendants, hospital and other institution', 812.0: 'Attendants, professional and personal service (nec)', 813.0: 'Attendants, recreation and amusement', 815.0: 'Bartenders', 820.0: 'Bootblacks', 821.0: 'Boarding and lodging house keepers', 824.0: 'Charwomen and cleaners', 825.0: 'Cooks, except private household', 830.0: 'Counter and fountain workers', 831.0: 'Elevator operators', 832.0: 'Housekeepers and stewards, except private household', 834.0: 'Janitors and sextons', 841.0: 'Porters', 842.0: 'Practical nurses', 843.0: 'Barbers, beauticians, and manicurists', 850.0: 'Firemen, fire protection', 851.0: 'Guards, watchmen, and doorkeepers', 852.0: 'Marshals and constables', 853.0: 'Policemen and detectives', 854.0: 'Sheriffs and bailiffs', 860.0: 'Watchmen (crossing) and bridge tenders', 874.0: 'Ushers, recreation and amusement', 875.0: 'Waiters and waitresses', 890.0: 'Service workers, except private household (nec)', 901.0: 'Farm foremen', 902.0: 'Farm laborers, wage workers', 903.0: 'Farm laborers, unpaid family workers', 905.0: 'Farm service laborers, self-employed', 962.0: 'Fishermen and oystermen', 963.0: 'Garage laborers and car washers and greasers', 964.0: 'Gardeners, except farm and groundskeepers', 965.0: 'Longshoremen and stevedores', 970.0: 'Lumbermen, raftsmen, and woodchoppers', 971.0: 'Teamsters', 972.0: 'Laborers (nec)', 995.0: 'Members of the armed services'}\n"
     ]
    }
   ],
   "source": [
    "#import a dict from excel datasheets columns\n",
    "import xlrd\n",
    "wb = xlrd.open_workbook('./jobs_dict.xlsx')\n",
    "worksheet = wb.sheet_by_index(0)   \n",
    "my_dict = {}\n",
    "for i in range(1, worksheet.nrows):\n",
    "    row = worksheet.row_values(i)\n",
    "    my_dict[row[0]] = row[1]\n",
    "\n",
    "print(my_dict)"
   ]
  },
  {
   "cell_type": "markdown",
   "metadata": {},
   "source": [
    "## TODO: Convert columns from object into int types. \n",
    "\n",
    "https://stackoverflow.com/questions/39173813/pandas-convert-dtype-object-to-int\n"
   ]
  },
  {
   "cell_type": "code",
   "execution_count": 42,
   "metadata": {},
   "outputs": [
    {
     "data": {
      "text/plain": [
       "nchild             object\n",
       "nchild_under_5     object\n",
       "nsibs              object\n",
       "eldch              object\n",
       "sex                 int64\n",
       "age                object\n",
       "ed_var_detailed     int64\n",
       "occ1950             int64\n",
       "ed_group_h          int64\n",
       "dtype: object"
      ]
     },
     "execution_count": 42,
     "metadata": {},
     "output_type": "execute_result"
    }
   ],
   "source": [
    "census.dtypes"
   ]
  },
  {
   "cell_type": "code",
   "execution_count": 44,
   "metadata": {
    "scrolled": true
   },
   "outputs": [
    {
     "data": {
      "text/html": [
       "<div>\n",
       "<style scoped>\n",
       "    .dataframe tbody tr th:only-of-type {\n",
       "        vertical-align: middle;\n",
       "    }\n",
       "\n",
       "    .dataframe tbody tr th {\n",
       "        vertical-align: top;\n",
       "    }\n",
       "\n",
       "    .dataframe thead th {\n",
       "        text-align: right;\n",
       "    }\n",
       "</style>\n",
       "<table border=\"1\" class=\"dataframe\">\n",
       "  <thead>\n",
       "    <tr style=\"text-align: right;\">\n",
       "      <th></th>\n",
       "      <th>nchild</th>\n",
       "      <th>nchild_under_5</th>\n",
       "      <th>nsibs</th>\n",
       "      <th>eldch</th>\n",
       "      <th>sex</th>\n",
       "      <th>age</th>\n",
       "      <th>ed_var_detailed</th>\n",
       "      <th>occ1950</th>\n",
       "      <th>ed_group_h</th>\n",
       "    </tr>\n",
       "  </thead>\n",
       "  <tbody>\n",
       "    <tr>\n",
       "      <th>0</th>\n",
       "      <td>0</td>\n",
       "      <td>0</td>\n",
       "      <td>0</td>\n",
       "      <td>0</td>\n",
       "      <td>0</td>\n",
       "      <td>43</td>\n",
       "      <td>11</td>\n",
       "      <td>0</td>\n",
       "      <td>1</td>\n",
       "    </tr>\n",
       "    <tr>\n",
       "      <th>1</th>\n",
       "      <td>0</td>\n",
       "      <td>0</td>\n",
       "      <td>0</td>\n",
       "      <td>0</td>\n",
       "      <td>0</td>\n",
       "      <td>28</td>\n",
       "      <td>16</td>\n",
       "      <td>1</td>\n",
       "      <td>2</td>\n",
       "    </tr>\n",
       "    <tr>\n",
       "      <th>2</th>\n",
       "      <td>3</td>\n",
       "      <td>0</td>\n",
       "      <td>0</td>\n",
       "      <td>15</td>\n",
       "      <td>0</td>\n",
       "      <td>36</td>\n",
       "      <td>14</td>\n",
       "      <td>2</td>\n",
       "      <td>1</td>\n",
       "    </tr>\n",
       "    <tr>\n",
       "      <th>3</th>\n",
       "      <td>0</td>\n",
       "      <td>0</td>\n",
       "      <td>0</td>\n",
       "      <td>0</td>\n",
       "      <td>0</td>\n",
       "      <td>48</td>\n",
       "      <td>5</td>\n",
       "      <td>1</td>\n",
       "      <td>1</td>\n",
       "    </tr>\n",
       "    <tr>\n",
       "      <th>4</th>\n",
       "      <td>2</td>\n",
       "      <td>2</td>\n",
       "      <td>0</td>\n",
       "      <td>2</td>\n",
       "      <td>0</td>\n",
       "      <td>27</td>\n",
       "      <td>15</td>\n",
       "      <td>3</td>\n",
       "      <td>1</td>\n",
       "    </tr>\n",
       "    <tr>\n",
       "      <th>5</th>\n",
       "      <td>0</td>\n",
       "      <td>0</td>\n",
       "      <td>0</td>\n",
       "      <td>0</td>\n",
       "      <td>0</td>\n",
       "      <td>60</td>\n",
       "      <td>16</td>\n",
       "      <td>4</td>\n",
       "      <td>2</td>\n",
       "    </tr>\n",
       "    <tr>\n",
       "      <th>7</th>\n",
       "      <td>0</td>\n",
       "      <td>0</td>\n",
       "      <td>0</td>\n",
       "      <td>0</td>\n",
       "      <td>0</td>\n",
       "      <td>69</td>\n",
       "      <td>6</td>\n",
       "      <td>5</td>\n",
       "      <td>1</td>\n",
       "    </tr>\n",
       "    <tr>\n",
       "      <th>8</th>\n",
       "      <td>0</td>\n",
       "      <td>0</td>\n",
       "      <td>0</td>\n",
       "      <td>0</td>\n",
       "      <td>0</td>\n",
       "      <td>44</td>\n",
       "      <td>11</td>\n",
       "      <td>1</td>\n",
       "      <td>1</td>\n",
       "    </tr>\n",
       "    <tr>\n",
       "      <th>9</th>\n",
       "      <td>0</td>\n",
       "      <td>0</td>\n",
       "      <td>1</td>\n",
       "      <td>0</td>\n",
       "      <td>0</td>\n",
       "      <td>54</td>\n",
       "      <td>22</td>\n",
       "      <td>6</td>\n",
       "      <td>4</td>\n",
       "    </tr>\n",
       "    <tr>\n",
       "      <th>10</th>\n",
       "      <td>0</td>\n",
       "      <td>0</td>\n",
       "      <td>0</td>\n",
       "      <td>0</td>\n",
       "      <td>0</td>\n",
       "      <td>73</td>\n",
       "      <td>12</td>\n",
       "      <td>2</td>\n",
       "      <td>1</td>\n",
       "    </tr>\n",
       "  </tbody>\n",
       "</table>\n",
       "</div>"
      ],
      "text/plain": [
       "    nchild  nchild_under_5  nsibs  eldch  sex  age  ed_var_detailed  occ1950  \\\n",
       "0        0               0      0      0    0   43               11        0   \n",
       "1        0               0      0      0    0   28               16        1   \n",
       "2        3               0      0     15    0   36               14        2   \n",
       "3        0               0      0      0    0   48                5        1   \n",
       "4        2               2      0      2    0   27               15        3   \n",
       "5        0               0      0      0    0   60               16        4   \n",
       "7        0               0      0      0    0   69                6        5   \n",
       "8        0               0      0      0    0   44               11        1   \n",
       "9        0               0      1      0    0   54               22        6   \n",
       "10       0               0      0      0    0   73               12        2   \n",
       "\n",
       "    ed_group_h  \n",
       "0            1  \n",
       "1            2  \n",
       "2            1  \n",
       "3            1  \n",
       "4            1  \n",
       "5            2  \n",
       "7            1  \n",
       "8            1  \n",
       "9            4  \n",
       "10           1  "
      ]
     },
     "execution_count": 44,
     "metadata": {},
     "output_type": "execute_result"
    }
   ],
   "source": [
    "census.nchild = census['nchild'].astype('int')\n",
    "census.nchild_under_5 = census['nchild_under_5'].astype('int')\n",
    "census.nsibs = census['nsibs'].astype('int')\n",
    "census.eldch = census['eldch'].astype('int')\n",
    "census.age = census['age'].astype('int')\n",
    "census.sex = census['sex'].astype('int')\n",
    "census.head(10)"
   ]
  },
  {
   "cell_type": "raw",
   "metadata": {},
   "source": [
    "import numpy as np\n",
    "import pandas as pd\n",
    "from sklearn.model_selection import train_test_split\n",
    "from sklearn.preprocessing import StandardScaler\n",
    "from sklearn.ensemble import RandomForestClassifier\n",
    "from sklearn.metrics import confusion_matrix\n",
    "from sklearn.externals import joblib\n",
    "\n",
    "\n",
    "y = census['ed_group_h']\n",
    "X = census.drop(labels=['ed_group_h', 'ed_var_detailed'], axis=1)\n",
    "#X.head(5)"
   ]
  },
  {
   "cell_type": "raw",
   "metadata": {},
   "source": [
    "# Creating the Training and Test set from data\n",
    "X_train, X_test, y_train, y_test = train_test_split(X, y, test_size = 0.25, random_state = 21)"
   ]
  },
  {
   "cell_type": "raw",
   "metadata": {},
   "source": [
    "scaler = StandardScaler()\n",
    "X_train = scaler.fit_transform(X_train)\n",
    "X_test = scaler.transform(X_test)"
   ]
  },
  {
   "cell_type": "raw",
   "metadata": {},
   "source": [
    "# Fitting Random Forest Classification to the Training set\n",
    "classifier = RandomForestClassifier(n_estimators = 10, criterion = 'entropy', random_state = 42)\n",
    "classifier.fit(X_train, y_train)\n"
   ]
  },
  {
   "cell_type": "raw",
   "metadata": {},
   "source": [
    "# Predicting the Test set results\n",
    "y_pred = classifier.predict(X_test)\n",
    "#Reverse factorize (converting y_pred from 0s,1s and 2s to Iris-setosa, Iris-versicolor and Iris-virginica\n",
    "reversefactor = dict(zip(range(3),definitions))\n",
    "y_test = np.vectorize(reversefactor.get)(y_test)\n",
    "y_pred = np.vectorize(reversefactor.get)(y_pred)\n",
    "# Making the Confusion Matrix\n",
    "print(pd.crosstab(y_test, y_pred, rownames=['Actual groups'], colnames=['Predicted groups']))"
   ]
  },
  {
   "cell_type": "raw",
   "metadata": {},
   "source": [
    "prediction_test = classifier.predict(X_test)\n",
    "#print(y_test, prediction_test)\n",
    "\n",
    "from sklearn import metrics\n",
    "#Print the prediction accuracy\n",
    "print (\"Accuracy = \", metrics.accuracy_score(y_test, prediction_test))"
   ]
  },
  {
   "cell_type": "code",
   "execution_count": 62,
   "metadata": {},
   "outputs": [],
   "source": [
    "#saving your data\n",
    "census.to_csv('cleaned_census.csv')"
   ]
  }
 ],
 "metadata": {
  "kernelspec": {
   "display_name": "Python 3",
   "language": "python",
   "name": "python3"
  },
  "language_info": {
   "codemirror_mode": {
    "name": "ipython",
    "version": 3
   },
   "file_extension": ".py",
   "mimetype": "text/x-python",
   "name": "python",
   "nbconvert_exporter": "python",
   "pygments_lexer": "ipython3",
   "version": "3.7.4"
  }
 },
 "nbformat": 4,
 "nbformat_minor": 2
}
