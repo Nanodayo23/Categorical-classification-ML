{
 "cells": [
  {
   "cell_type": "code",
   "execution_count": 19,
   "metadata": {},
   "outputs": [],
   "source": [
    "import pandas as pd\n",
    "from matplotlib import pyplot as plt\n",
    "import numpy as np\n",
    "import joblib\n",
    "from sklearn.cluster import KMeans\n",
    "from kmodes.kmodes import KModes\n",
    "from kmodes.kprototypes import KPrototypes"
   ]
  },
  {
   "cell_type": "code",
   "execution_count": 20,
   "metadata": {},
   "outputs": [
    {
     "data": {
      "text/html": [
       "<div>\n",
       "<style scoped>\n",
       "    .dataframe tbody tr th:only-of-type {\n",
       "        vertical-align: middle;\n",
       "    }\n",
       "\n",
       "    .dataframe tbody tr th {\n",
       "        vertical-align: top;\n",
       "    }\n",
       "\n",
       "    .dataframe thead th {\n",
       "        text-align: right;\n",
       "    }\n",
       "</style>\n",
       "<table border=\"1\" class=\"dataframe\">\n",
       "  <thead>\n",
       "    <tr style=\"text-align: right;\">\n",
       "      <th></th>\n",
       "      <th>Unnamed: 0</th>\n",
       "      <th>nchild</th>\n",
       "      <th>nchild_under_5</th>\n",
       "      <th>nsibs</th>\n",
       "      <th>eldch</th>\n",
       "      <th>sex</th>\n",
       "      <th>age</th>\n",
       "      <th>occ1950</th>\n",
       "      <th>ed_group_h</th>\n",
       "    </tr>\n",
       "  </thead>\n",
       "  <tbody>\n",
       "    <tr>\n",
       "      <th>0</th>\n",
       "      <td>0</td>\n",
       "      <td>0</td>\n",
       "      <td>0</td>\n",
       "      <td>0</td>\n",
       "      <td>0</td>\n",
       "      <td>Male</td>\n",
       "      <td>43</td>\n",
       "      <td>Operative and kindred workers (nec)</td>\n",
       "      <td>1</td>\n",
       "    </tr>\n",
       "  </tbody>\n",
       "</table>\n",
       "</div>"
      ],
      "text/plain": [
       "   Unnamed: 0  nchild  nchild_under_5  nsibs  eldch   sex  age  \\\n",
       "0           0       0               0      0      0  Male   43   \n",
       "\n",
       "                               occ1950  ed_group_h  \n",
       "0  Operative and kindred workers (nec)           1  "
      ]
     },
     "execution_count": 20,
     "metadata": {},
     "output_type": "execute_result"
    }
   ],
   "source": [
    "df = pd.read_csv('cleaned_census.csv')\n",
    "df.head(1)\n"
   ]
  },
  {
   "cell_type": "code",
   "execution_count": 21,
   "metadata": {},
   "outputs": [],
   "source": [
    "df.drop(['Unnamed: 0', 'ed_group_h'], axis=1,inplace=True)"
   ]
  },
  {
   "cell_type": "code",
   "execution_count": 22,
   "metadata": {},
   "outputs": [
    {
     "data": {
      "text/html": [
       "<div>\n",
       "<style scoped>\n",
       "    .dataframe tbody tr th:only-of-type {\n",
       "        vertical-align: middle;\n",
       "    }\n",
       "\n",
       "    .dataframe tbody tr th {\n",
       "        vertical-align: top;\n",
       "    }\n",
       "\n",
       "    .dataframe thead th {\n",
       "        text-align: right;\n",
       "    }\n",
       "</style>\n",
       "<table border=\"1\" class=\"dataframe\">\n",
       "  <thead>\n",
       "    <tr style=\"text-align: right;\">\n",
       "      <th></th>\n",
       "      <th>nchild</th>\n",
       "      <th>nchild_under_5</th>\n",
       "      <th>nsibs</th>\n",
       "      <th>eldch</th>\n",
       "      <th>sex</th>\n",
       "      <th>age</th>\n",
       "      <th>occ1950</th>\n",
       "    </tr>\n",
       "  </thead>\n",
       "  <tbody>\n",
       "    <tr>\n",
       "      <th>0</th>\n",
       "      <td>0</td>\n",
       "      <td>0</td>\n",
       "      <td>0</td>\n",
       "      <td>0</td>\n",
       "      <td>Male</td>\n",
       "      <td>43</td>\n",
       "      <td>Operative and kindred workers (nec)</td>\n",
       "    </tr>\n",
       "    <tr>\n",
       "      <th>1</th>\n",
       "      <td>0</td>\n",
       "      <td>0</td>\n",
       "      <td>0</td>\n",
       "      <td>0</td>\n",
       "      <td>Male</td>\n",
       "      <td>28</td>\n",
       "      <td>Managers, officials, and proprietors (nec)</td>\n",
       "    </tr>\n",
       "    <tr>\n",
       "      <th>2</th>\n",
       "      <td>3</td>\n",
       "      <td>0</td>\n",
       "      <td>0</td>\n",
       "      <td>15</td>\n",
       "      <td>Male</td>\n",
       "      <td>36</td>\n",
       "      <td>Foremen (nec)</td>\n",
       "    </tr>\n",
       "    <tr>\n",
       "      <th>3</th>\n",
       "      <td>0</td>\n",
       "      <td>0</td>\n",
       "      <td>0</td>\n",
       "      <td>0</td>\n",
       "      <td>Male</td>\n",
       "      <td>48</td>\n",
       "      <td>Managers, officials, and proprietors (nec)</td>\n",
       "    </tr>\n",
       "    <tr>\n",
       "      <th>4</th>\n",
       "      <td>2</td>\n",
       "      <td>2</td>\n",
       "      <td>0</td>\n",
       "      <td>2</td>\n",
       "      <td>Male</td>\n",
       "      <td>27</td>\n",
       "      <td>Salesmen and sales clerks (nec)</td>\n",
       "    </tr>\n",
       "    <tr>\n",
       "      <th>5</th>\n",
       "      <td>0</td>\n",
       "      <td>0</td>\n",
       "      <td>0</td>\n",
       "      <td>0</td>\n",
       "      <td>Male</td>\n",
       "      <td>60</td>\n",
       "      <td>Purchasing agents and buyers (nec)</td>\n",
       "    </tr>\n",
       "    <tr>\n",
       "      <th>6</th>\n",
       "      <td>0</td>\n",
       "      <td>0</td>\n",
       "      <td>0</td>\n",
       "      <td>0</td>\n",
       "      <td>Male</td>\n",
       "      <td>69</td>\n",
       "      <td>Lumbermen, raftsmen, and woodchoppers</td>\n",
       "    </tr>\n",
       "    <tr>\n",
       "      <th>7</th>\n",
       "      <td>0</td>\n",
       "      <td>0</td>\n",
       "      <td>0</td>\n",
       "      <td>0</td>\n",
       "      <td>Male</td>\n",
       "      <td>44</td>\n",
       "      <td>Managers, officials, and proprietors (nec)</td>\n",
       "    </tr>\n",
       "    <tr>\n",
       "      <th>8</th>\n",
       "      <td>0</td>\n",
       "      <td>0</td>\n",
       "      <td>1</td>\n",
       "      <td>0</td>\n",
       "      <td>Male</td>\n",
       "      <td>54</td>\n",
       "      <td>Bookkeepers</td>\n",
       "    </tr>\n",
       "    <tr>\n",
       "      <th>9</th>\n",
       "      <td>0</td>\n",
       "      <td>0</td>\n",
       "      <td>0</td>\n",
       "      <td>0</td>\n",
       "      <td>Male</td>\n",
       "      <td>73</td>\n",
       "      <td>Foremen (nec)</td>\n",
       "    </tr>\n",
       "  </tbody>\n",
       "</table>\n",
       "</div>"
      ],
      "text/plain": [
       "   nchild  nchild_under_5  nsibs  eldch   sex  age  \\\n",
       "0       0               0      0      0  Male   43   \n",
       "1       0               0      0      0  Male   28   \n",
       "2       3               0      0     15  Male   36   \n",
       "3       0               0      0      0  Male   48   \n",
       "4       2               2      0      2  Male   27   \n",
       "5       0               0      0      0  Male   60   \n",
       "6       0               0      0      0  Male   69   \n",
       "7       0               0      0      0  Male   44   \n",
       "8       0               0      1      0  Male   54   \n",
       "9       0               0      0      0  Male   73   \n",
       "\n",
       "                                      occ1950  \n",
       "0         Operative and kindred workers (nec)  \n",
       "1  Managers, officials, and proprietors (nec)  \n",
       "2                               Foremen (nec)  \n",
       "3  Managers, officials, and proprietors (nec)  \n",
       "4             Salesmen and sales clerks (nec)  \n",
       "5          Purchasing agents and buyers (nec)  \n",
       "6       Lumbermen, raftsmen, and woodchoppers  \n",
       "7  Managers, officials, and proprietors (nec)  \n",
       "8                                 Bookkeepers  \n",
       "9                               Foremen (nec)  "
      ]
     },
     "execution_count": 22,
     "metadata": {},
     "output_type": "execute_result"
    }
   ],
   "source": [
    "df.head(10)"
   ]
  },
  {
   "cell_type": "code",
   "execution_count": 23,
   "metadata": {},
   "outputs": [
    {
     "data": {
      "text/plain": [
       "nchild             int64\n",
       "nchild_under_5     int64\n",
       "nsibs              int64\n",
       "eldch              int64\n",
       "sex               object\n",
       "age                int64\n",
       "occ1950           object\n",
       "dtype: object"
      ]
     },
     "execution_count": 23,
     "metadata": {},
     "output_type": "execute_result"
    }
   ],
   "source": [
    "df.dtypes"
   ]
  },
  {
   "cell_type": "code",
   "execution_count": 24,
   "metadata": {},
   "outputs": [],
   "source": [
    "x = df.values"
   ]
  },
  {
   "cell_type": "code",
   "execution_count": 25,
   "metadata": {},
   "outputs": [
    {
     "data": {
      "text/plain": [
       "array([[0, 0, 0, ..., 'Male', 43, 'Operative and kindred workers (nec)'],\n",
       "       [0, 0, 0, ..., 'Male', 28,\n",
       "        'Managers, officials, and proprietors (nec)'],\n",
       "       [3, 0, 0, ..., 'Male', 36, 'Foremen (nec)'],\n",
       "       ...,\n",
       "       [2, 0, 0, ..., 'Male', 37, 'Buyers and dept heads, store'],\n",
       "       [6, 3, 0, ..., 'Male', 29, 'Dispatchers and starters, vehicle'],\n",
       "       [1, 0, 0, ..., 'Male', 46,\n",
       "        'Managers, officials, and proprietors (nec)']], dtype=object)"
      ]
     },
     "execution_count": 25,
     "metadata": {},
     "output_type": "execute_result"
    }
   ],
   "source": [
    "x"
   ]
  },
  {
   "cell_type": "code",
   "execution_count": 26,
   "metadata": {},
   "outputs": [],
   "source": [
    "kproto = KPrototypes(n_clusters=4, max_iter=20, verbose=2)"
   ]
  },
  {
   "cell_type": "code",
   "execution_count": null,
   "metadata": {},
   "outputs": [
    {
     "name": "stdout",
     "output_type": "stream",
     "text": [
      "Init: initializing centroids\n",
      "Init: initializing clusters\n",
      "Starting iterations...\n",
      "Run: 1, iteration: 1/20, moves: 42787, ncost: 14995474.431191154\n",
      "Run: 1, iteration: 2/20, moves: 17873, ncost: 14455237.058287732\n",
      "Run: 1, iteration: 3/20, moves: 9801, ncost: 14240670.42384166\n",
      "Run: 1, iteration: 4/20, moves: 6826, ncost: 14138284.815618498\n",
      "Run: 1, iteration: 5/20, moves: 4878, ncost: 14084824.810047533\n",
      "Run: 1, iteration: 6/20, moves: 3746, ncost: 14051455.53330335\n",
      "Run: 1, iteration: 7/20, moves: 2401, ncost: 14036721.369173026\n",
      "Run: 1, iteration: 8/20, moves: 1745, ncost: 14029058.016951222\n",
      "Run: 1, iteration: 9/20, moves: 1709, ncost: 14015014.921290936\n",
      "Run: 1, iteration: 10/20, moves: 2423, ncost: 13999776.010823485\n",
      "Run: 1, iteration: 11/20, moves: 852, ncost: 13997641.132739928\n",
      "Run: 1, iteration: 12/20, moves: 576, ncost: 13996572.553235598\n",
      "Run: 1, iteration: 13/20, moves: 377, ncost: 13996124.532194939\n",
      "Run: 1, iteration: 14/20, moves: 212, ncost: 13995961.26245364\n",
      "Run: 1, iteration: 15/20, moves: 42, ncost: 13995955.788319277\n",
      "Run: 1, iteration: 16/20, moves: 1, ncost: 13995955.785230724\n",
      "Run: 1, iteration: 17/20, moves: 0, ncost: 13995955.785230724\n",
      "Init: initializing centroids\n",
      "Init: initializing clusters\n",
      "Starting iterations...\n",
      "Run: 2, iteration: 1/20, moves: 18214, ncost: 14040158.505396392\n",
      "Run: 2, iteration: 2/20, moves: 4275, ncost: 14008281.53639603\n",
      "Run: 2, iteration: 3/20, moves: 2117, ncost: 13996839.019364877\n",
      "Run: 2, iteration: 4/20, moves: 516, ncost: 13996219.066440832\n",
      "Run: 2, iteration: 5/20, moves: 224, ncost: 13995963.9426797\n",
      "Run: 2, iteration: 6/20, moves: 49, ncost: 13995955.81302441\n",
      "Run: 2, iteration: 7/20, moves: 3, ncost: 13995955.785230724\n",
      "Run: 2, iteration: 8/20, moves: 0, ncost: 13995955.785230724\n",
      "Init: initializing centroids\n",
      "Init: initializing clusters\n",
      "Starting iterations...\n",
      "Run: 3, iteration: 1/20, moves: 39613, ncost: 14271328.270042626\n",
      "Run: 3, iteration: 2/20, moves: 14118, ncost: 14006840.429723578\n",
      "Run: 3, iteration: 3/20, moves: 2779, ncost: 13997058.520081593\n",
      "Run: 3, iteration: 4/20, moves: 650, ncost: 13996301.556664841\n",
      "Run: 3, iteration: 5/20, moves: 337, ncost: 13995978.4522079\n",
      "Run: 3, iteration: 6/20, moves: 92, ncost: 13995955.85436429\n",
      "Run: 3, iteration: 7/20, moves: 5, ncost: 13995955.785230724\n",
      "Run: 3, iteration: 8/20, moves: 0, ncost: 13995955.785230724\n",
      "Init: initializing centroids\n",
      "Init: initializing clusters\n",
      "Starting iterations...\n",
      "Run: 4, iteration: 1/20, moves: 41249, ncost: 19272264.37486034\n",
      "Run: 4, iteration: 2/20, moves: 39090, ncost: 15686525.418419823\n",
      "Run: 4, iteration: 3/20, moves: 21869, ncost: 14658449.810128327\n",
      "Run: 4, iteration: 4/20, moves: 12700, ncost: 14336284.690305708\n",
      "Run: 4, iteration: 5/20, moves: 8407, ncost: 14187999.038951674\n",
      "Run: 4, iteration: 6/20, moves: 6046, ncost: 14108528.635127313\n",
      "Run: 4, iteration: 7/20, moves: 4075, ncost: 14068072.621571701\n",
      "Run: 4, iteration: 8/20, moves: 3222, ncost: 14043885.502535203\n",
      "Run: 4, iteration: 9/20, moves: 2072, ncost: 14032586.09564579\n",
      "Run: 4, iteration: 10/20, moves: 1429, ncost: 14027374.825435683\n",
      "Run: 4, iteration: 11/20, moves: 2281, ncost: 14005177.235516792\n",
      "Run: 4, iteration: 12/20, moves: 1728, ncost: 13998727.040643325\n",
      "Run: 4, iteration: 13/20, moves: 693, ncost: 13997205.47105806\n",
      "Run: 4, iteration: 14/20, moves: 498, ncost: 13996393.269162621\n",
      "Run: 4, iteration: 15/20, moves: 325, ncost: 13996002.028854337\n",
      "Run: 4, iteration: 16/20, moves: 130, ncost: 13995955.895987274\n",
      "Run: 4, iteration: 17/20, moves: 6, ncost: 13995955.785230724\n",
      "Run: 4, iteration: 18/20, moves: 0, ncost: 13995955.785230724\n",
      "Init: initializing centroids\n",
      "Init: initializing clusters\n",
      "Starting iterations...\n",
      "Run: 5, iteration: 1/20, moves: 36672, ncost: 14802445.717923075\n",
      "Run: 5, iteration: 2/20, moves: 18907, ncost: 14221219.03045638\n",
      "Run: 5, iteration: 3/20, moves: 8282, ncost: 14100647.58199634\n",
      "Run: 5, iteration: 4/20, moves: 4173, ncost: 14054798.922534628\n",
      "Run: 5, iteration: 5/20, moves: 3249, ncost: 14027917.708718209\n",
      "Run: 5, iteration: 6/20, moves: 2526, ncost: 14012391.792857362\n",
      "Run: 5, iteration: 7/20, moves: 1663, ncost: 14005174.848888172\n",
      "Run: 5, iteration: 8/20, moves: 908, ncost: 14001987.000234438\n"
     ]
    }
   ],
   "source": [
    "kproto.fit_predict(x, categorical=[4,6])"
   ]
  },
  {
   "cell_type": "code",
   "execution_count": null,
   "metadata": {},
   "outputs": [],
   "source": [
    "from sklearn.externals import joblib\n",
    "\n",
    "joblib.dump(kproto, \"model_proto_features.pkl\")"
   ]
  }
 ],
 "metadata": {
  "kernelspec": {
   "display_name": "Python 3",
   "language": "python",
   "name": "python3"
  },
  "language_info": {
   "codemirror_mode": {
    "name": "ipython",
    "version": 3
   },
   "file_extension": ".py",
   "mimetype": "text/x-python",
   "name": "python",
   "nbconvert_exporter": "python",
   "pygments_lexer": "ipython3",
   "version": "3.7.4"
  }
 },
 "nbformat": 4,
 "nbformat_minor": 2
}
