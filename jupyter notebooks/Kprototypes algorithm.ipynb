{
 "cells": [
  {
   "cell_type": "code",
   "execution_count": 97,
   "metadata": {},
   "outputs": [],
   "source": [
    "import pandas as pd\n",
    "from matplotlib import pyplot as plt\n",
    "import numpy as np\n",
    "import joblib\n",
    "from sklearn.cluster import KMeans\n",
    "from kmodes.kmodes import KModes\n",
    "from kmodes.kprototypes import KPrototypes"
   ]
  },
  {
   "cell_type": "code",
   "execution_count": 98,
   "metadata": {},
   "outputs": [
    {
     "data": {
      "text/html": [
       "<div>\n",
       "<style scoped>\n",
       "    .dataframe tbody tr th:only-of-type {\n",
       "        vertical-align: middle;\n",
       "    }\n",
       "\n",
       "    .dataframe tbody tr th {\n",
       "        vertical-align: top;\n",
       "    }\n",
       "\n",
       "    .dataframe thead th {\n",
       "        text-align: right;\n",
       "    }\n",
       "</style>\n",
       "<table border=\"1\" class=\"dataframe\">\n",
       "  <thead>\n",
       "    <tr style=\"text-align: right;\">\n",
       "      <th></th>\n",
       "      <th>Unnamed: 0</th>\n",
       "      <th>nchild</th>\n",
       "      <th>nchild_under_5</th>\n",
       "      <th>nsibs</th>\n",
       "      <th>eldch</th>\n",
       "      <th>sex</th>\n",
       "      <th>age</th>\n",
       "      <th>occ1950</th>\n",
       "      <th>ed_group_h</th>\n",
       "    </tr>\n",
       "  </thead>\n",
       "  <tbody>\n",
       "    <tr>\n",
       "      <th>0</th>\n",
       "      <td>0</td>\n",
       "      <td>0</td>\n",
       "      <td>0</td>\n",
       "      <td>0</td>\n",
       "      <td>0</td>\n",
       "      <td>Male</td>\n",
       "      <td>43</td>\n",
       "      <td>Operative and kindred workers (nec)</td>\n",
       "      <td>1</td>\n",
       "    </tr>\n",
       "  </tbody>\n",
       "</table>\n",
       "</div>"
      ],
      "text/plain": [
       "   Unnamed: 0  nchild  nchild_under_5  nsibs  eldch   sex  age  \\\n",
       "0           0       0               0      0      0  Male   43   \n",
       "\n",
       "                               occ1950  ed_group_h  \n",
       "0  Operative and kindred workers (nec)           1  "
      ]
     },
     "execution_count": 98,
     "metadata": {},
     "output_type": "execute_result"
    }
   ],
   "source": [
    "df = pd.read_csv('cleaned_census.csv')\n",
    "df.head(1)\n"
   ]
  },
  {
   "cell_type": "code",
   "execution_count": 99,
   "metadata": {},
   "outputs": [],
   "source": [
    "df = df.drop(['Unnamed: 0', 'ed_group_h',], axis=1)"
   ]
  },
  {
   "cell_type": "code",
   "execution_count": 100,
   "metadata": {},
   "outputs": [
    {
     "data": {
      "text/html": [
       "<div>\n",
       "<style scoped>\n",
       "    .dataframe tbody tr th:only-of-type {\n",
       "        vertical-align: middle;\n",
       "    }\n",
       "\n",
       "    .dataframe tbody tr th {\n",
       "        vertical-align: top;\n",
       "    }\n",
       "\n",
       "    .dataframe thead th {\n",
       "        text-align: right;\n",
       "    }\n",
       "</style>\n",
       "<table border=\"1\" class=\"dataframe\">\n",
       "  <thead>\n",
       "    <tr style=\"text-align: right;\">\n",
       "      <th></th>\n",
       "      <th>nchild</th>\n",
       "      <th>nchild_under_5</th>\n",
       "      <th>nsibs</th>\n",
       "      <th>eldch</th>\n",
       "      <th>sex</th>\n",
       "      <th>age</th>\n",
       "      <th>occ1950</th>\n",
       "    </tr>\n",
       "  </thead>\n",
       "  <tbody>\n",
       "    <tr>\n",
       "      <th>0</th>\n",
       "      <td>0</td>\n",
       "      <td>0</td>\n",
       "      <td>0</td>\n",
       "      <td>0</td>\n",
       "      <td>Male</td>\n",
       "      <td>43</td>\n",
       "      <td>Operative and kindred workers (nec)</td>\n",
       "    </tr>\n",
       "    <tr>\n",
       "      <th>1</th>\n",
       "      <td>0</td>\n",
       "      <td>0</td>\n",
       "      <td>0</td>\n",
       "      <td>0</td>\n",
       "      <td>Male</td>\n",
       "      <td>28</td>\n",
       "      <td>Managers, officials, and proprietors (nec)</td>\n",
       "    </tr>\n",
       "    <tr>\n",
       "      <th>2</th>\n",
       "      <td>3</td>\n",
       "      <td>0</td>\n",
       "      <td>0</td>\n",
       "      <td>15</td>\n",
       "      <td>Male</td>\n",
       "      <td>36</td>\n",
       "      <td>Foremen (nec)</td>\n",
       "    </tr>\n",
       "    <tr>\n",
       "      <th>3</th>\n",
       "      <td>0</td>\n",
       "      <td>0</td>\n",
       "      <td>0</td>\n",
       "      <td>0</td>\n",
       "      <td>Male</td>\n",
       "      <td>48</td>\n",
       "      <td>Managers, officials, and proprietors (nec)</td>\n",
       "    </tr>\n",
       "    <tr>\n",
       "      <th>4</th>\n",
       "      <td>2</td>\n",
       "      <td>2</td>\n",
       "      <td>0</td>\n",
       "      <td>2</td>\n",
       "      <td>Male</td>\n",
       "      <td>27</td>\n",
       "      <td>Salesmen and sales clerks (nec)</td>\n",
       "    </tr>\n",
       "    <tr>\n",
       "      <th>5</th>\n",
       "      <td>0</td>\n",
       "      <td>0</td>\n",
       "      <td>0</td>\n",
       "      <td>0</td>\n",
       "      <td>Male</td>\n",
       "      <td>60</td>\n",
       "      <td>Purchasing agents and buyers (nec)</td>\n",
       "    </tr>\n",
       "    <tr>\n",
       "      <th>6</th>\n",
       "      <td>0</td>\n",
       "      <td>0</td>\n",
       "      <td>0</td>\n",
       "      <td>0</td>\n",
       "      <td>Male</td>\n",
       "      <td>69</td>\n",
       "      <td>Lumbermen, raftsmen, and woodchoppers</td>\n",
       "    </tr>\n",
       "    <tr>\n",
       "      <th>7</th>\n",
       "      <td>0</td>\n",
       "      <td>0</td>\n",
       "      <td>0</td>\n",
       "      <td>0</td>\n",
       "      <td>Male</td>\n",
       "      <td>44</td>\n",
       "      <td>Managers, officials, and proprietors (nec)</td>\n",
       "    </tr>\n",
       "    <tr>\n",
       "      <th>8</th>\n",
       "      <td>0</td>\n",
       "      <td>0</td>\n",
       "      <td>1</td>\n",
       "      <td>0</td>\n",
       "      <td>Male</td>\n",
       "      <td>54</td>\n",
       "      <td>Bookkeepers</td>\n",
       "    </tr>\n",
       "    <tr>\n",
       "      <th>9</th>\n",
       "      <td>0</td>\n",
       "      <td>0</td>\n",
       "      <td>0</td>\n",
       "      <td>0</td>\n",
       "      <td>Male</td>\n",
       "      <td>73</td>\n",
       "      <td>Foremen (nec)</td>\n",
       "    </tr>\n",
       "  </tbody>\n",
       "</table>\n",
       "</div>"
      ],
      "text/plain": [
       "   nchild  nchild_under_5  nsibs  eldch   sex  age  \\\n",
       "0       0               0      0      0  Male   43   \n",
       "1       0               0      0      0  Male   28   \n",
       "2       3               0      0     15  Male   36   \n",
       "3       0               0      0      0  Male   48   \n",
       "4       2               2      0      2  Male   27   \n",
       "5       0               0      0      0  Male   60   \n",
       "6       0               0      0      0  Male   69   \n",
       "7       0               0      0      0  Male   44   \n",
       "8       0               0      1      0  Male   54   \n",
       "9       0               0      0      0  Male   73   \n",
       "\n",
       "                                      occ1950  \n",
       "0         Operative and kindred workers (nec)  \n",
       "1  Managers, officials, and proprietors (nec)  \n",
       "2                               Foremen (nec)  \n",
       "3  Managers, officials, and proprietors (nec)  \n",
       "4             Salesmen and sales clerks (nec)  \n",
       "5          Purchasing agents and buyers (nec)  \n",
       "6       Lumbermen, raftsmen, and woodchoppers  \n",
       "7  Managers, officials, and proprietors (nec)  \n",
       "8                                 Bookkeepers  \n",
       "9                               Foremen (nec)  "
      ]
     },
     "execution_count": 100,
     "metadata": {},
     "output_type": "execute_result"
    }
   ],
   "source": [
    "df.head(10)"
   ]
  },
  {
   "cell_type": "code",
   "execution_count": 101,
   "metadata": {},
   "outputs": [
    {
     "data": {
      "text/plain": [
       "nchild             int64\n",
       "nchild_under_5     int64\n",
       "nsibs              int64\n",
       "eldch              int64\n",
       "sex               object\n",
       "age                int64\n",
       "occ1950           object\n",
       "dtype: object"
      ]
     },
     "execution_count": 101,
     "metadata": {},
     "output_type": "execute_result"
    }
   ],
   "source": [
    "df.dtypes"
   ]
  },
  {
   "cell_type": "code",
   "execution_count": 134,
   "metadata": {},
   "outputs": [
    {
     "data": {
      "text/plain": [
       "array([[0, 0, 0, ..., 43, 'Operative and kindred workers (nec)', 3],\n",
       "       [0, 0, 0, ..., 28, 'Managers, officials, and proprietors (nec)',\n",
       "        0],\n",
       "       [3, 0, 0, ..., 36, 'Foremen (nec)', 3],\n",
       "       ...,\n",
       "       [2, 0, 0, ..., 37, 'Buyers and dept heads, store', 3],\n",
       "       [6, 3, 0, ..., 29, 'Dispatchers and starters, vehicle', 0],\n",
       "       [1, 0, 0, ..., 46, 'Managers, officials, and proprietors (nec)',\n",
       "        3]], dtype=object)"
      ]
     },
     "execution_count": 134,
     "metadata": {},
     "output_type": "execute_result"
    }
   ],
   "source": [
    "x = df.values\n",
    "x"
   ]
  },
  {
   "cell_type": "code",
   "execution_count": 103,
   "metadata": {},
   "outputs": [
    {
     "data": {
      "text/plain": [
       "array([0, 0, 0, 0, 'Male', 43, 'Operative and kindred workers (nec)'],\n",
       "      dtype=object)"
      ]
     },
     "execution_count": 103,
     "metadata": {},
     "output_type": "execute_result"
    }
   ],
   "source": [
    "observation = x[0]\n",
    "observation\n"
   ]
  },
  {
   "cell_type": "code",
   "execution_count": 105,
   "metadata": {},
   "outputs": [
    {
     "name": "stdout",
     "output_type": "stream",
     "text": [
      "model_proto_features classifier has been loaded\n"
     ]
    }
   ],
   "source": [
    "classifier = joblib.load('model_proto_features.pkl')\n",
    "print(\"model_proto_features classifier has been loaded\")"
   ]
  },
  {
   "cell_type": "code",
   "execution_count": 131,
   "metadata": {},
   "outputs": [],
   "source": [
    "new_observation = [[0,0,0,0,'Male', 42, 'Chemists']]"
   ]
  },
  {
   "cell_type": "code",
   "execution_count": 132,
   "metadata": {},
   "outputs": [],
   "source": [
    "obs = np.asanyarray(new_observation)"
   ]
  },
  {
   "cell_type": "code",
   "execution_count": 133,
   "metadata": {},
   "outputs": [
    {
     "data": {
      "text/plain": [
       "array([1], dtype=uint16)"
      ]
     },
     "execution_count": 133,
     "metadata": {},
     "output_type": "execute_result"
    }
   ],
   "source": [
    "classifier.predict(obs, categorical=[4,6])"
   ]
  },
  {
   "cell_type": "code",
   "execution_count": 111,
   "metadata": {},
   "outputs": [],
   "source": [
    "cluster = kproto.labels_\n",
    "df.head(2)\n",
    "df['clusters'] = cluster"
   ]
  },
  {
   "cell_type": "code",
   "execution_count": 130,
   "metadata": {},
   "outputs": [
    {
     "data": {
      "text/html": [
       "<div>\n",
       "<style scoped>\n",
       "    .dataframe tbody tr th:only-of-type {\n",
       "        vertical-align: middle;\n",
       "    }\n",
       "\n",
       "    .dataframe tbody tr th {\n",
       "        vertical-align: top;\n",
       "    }\n",
       "\n",
       "    .dataframe thead th {\n",
       "        text-align: right;\n",
       "    }\n",
       "</style>\n",
       "<table border=\"1\" class=\"dataframe\">\n",
       "  <thead>\n",
       "    <tr style=\"text-align: right;\">\n",
       "      <th></th>\n",
       "      <th>nchild</th>\n",
       "      <th>nchild_under_5</th>\n",
       "      <th>nsibs</th>\n",
       "      <th>eldch</th>\n",
       "      <th>sex</th>\n",
       "      <th>age</th>\n",
       "      <th>occ1950</th>\n",
       "      <th>ed_group_h</th>\n",
       "      <th>clusters</th>\n",
       "    </tr>\n",
       "  </thead>\n",
       "  <tbody>\n",
       "    <tr>\n",
       "      <th>0</th>\n",
       "      <td>0</td>\n",
       "      <td>0</td>\n",
       "      <td>0</td>\n",
       "      <td>0</td>\n",
       "      <td>Male</td>\n",
       "      <td>43</td>\n",
       "      <td>Operative and kindred workers (nec)</td>\n",
       "      <td>1</td>\n",
       "      <td>3</td>\n",
       "    </tr>\n",
       "    <tr>\n",
       "      <th>1</th>\n",
       "      <td>0</td>\n",
       "      <td>0</td>\n",
       "      <td>0</td>\n",
       "      <td>0</td>\n",
       "      <td>Male</td>\n",
       "      <td>28</td>\n",
       "      <td>Managers, officials, and proprietors (nec)</td>\n",
       "      <td>2</td>\n",
       "      <td>0</td>\n",
       "    </tr>\n",
       "    <tr>\n",
       "      <th>2</th>\n",
       "      <td>3</td>\n",
       "      <td>0</td>\n",
       "      <td>0</td>\n",
       "      <td>15</td>\n",
       "      <td>Male</td>\n",
       "      <td>36</td>\n",
       "      <td>Foremen (nec)</td>\n",
       "      <td>1</td>\n",
       "      <td>3</td>\n",
       "    </tr>\n",
       "    <tr>\n",
       "      <th>3</th>\n",
       "      <td>0</td>\n",
       "      <td>0</td>\n",
       "      <td>0</td>\n",
       "      <td>0</td>\n",
       "      <td>Male</td>\n",
       "      <td>48</td>\n",
       "      <td>Managers, officials, and proprietors (nec)</td>\n",
       "      <td>1</td>\n",
       "      <td>1</td>\n",
       "    </tr>\n",
       "    <tr>\n",
       "      <th>4</th>\n",
       "      <td>2</td>\n",
       "      <td>2</td>\n",
       "      <td>0</td>\n",
       "      <td>2</td>\n",
       "      <td>Male</td>\n",
       "      <td>27</td>\n",
       "      <td>Salesmen and sales clerks (nec)</td>\n",
       "      <td>1</td>\n",
       "      <td>0</td>\n",
       "    </tr>\n",
       "  </tbody>\n",
       "</table>\n",
       "</div>"
      ],
      "text/plain": [
       "   nchild  nchild_under_5  nsibs  eldch   sex  age  \\\n",
       "0       0               0      0      0  Male   43   \n",
       "1       0               0      0      0  Male   28   \n",
       "2       3               0      0     15  Male   36   \n",
       "3       0               0      0      0  Male   48   \n",
       "4       2               2      0      2  Male   27   \n",
       "\n",
       "                                      occ1950  ed_group_h  clusters  \n",
       "0         Operative and kindred workers (nec)           1         3  \n",
       "1  Managers, officials, and proprietors (nec)           2         0  \n",
       "2                               Foremen (nec)           1         3  \n",
       "3  Managers, officials, and proprietors (nec)           1         1  \n",
       "4             Salesmen and sales clerks (nec)           1         0  "
      ]
     },
     "execution_count": 130,
     "metadata": {},
     "output_type": "execute_result"
    }
   ],
   "source": [
    "census_new = pd.read_csv('cleaned_census.csv')\n",
    "census_new['clusters'] = cluster\n",
    "census_new= census_new.drop(['Unnamed: 0'], axis=1)\n",
    "census_new.to_csv(\"dataset_clustered.csv\")\n",
    "census_new.head(5)"
   ]
  },
  {
   "cell_type": "code",
   "execution_count": 113,
   "metadata": {},
   "outputs": [
    {
     "name": "stdout",
     "output_type": "stream",
     "text": [
      "14065544.128628844\n",
      "9\n",
      "[3 0 3 ... 3 0 3]\n"
     ]
    }
   ],
   "source": [
    "print(kproto.cost_)\n",
    "print(kproto.n_iter_)\n",
    "print(kproto.labels_)"
   ]
  },
  {
   "cell_type": "code",
   "execution_count": 86,
   "metadata": {},
   "outputs": [
    {
     "name": "stderr",
     "output_type": "stream",
     "text": [
      "C:\\Users\\48733\\Anaconda3\\lib\\site-packages\\statsmodels\\tools\\_testing.py:19: FutureWarning: pandas.util.testing is deprecated. Use the functions in the public API at pandas.testing instead.\n",
      "  import pandas.util.testing as tm\n"
     ]
    },
    {
     "data": {
      "image/png": "[encoded data removed]",
      "text/plain": [
       "<Figure size 288x72 with 1 Axes>"
      ]
     },
     "metadata": {},
     "output_type": "display_data"
    }
   ],
   "source": [
    "import seaborn as sns\n",
    "%matplotlib inline\n",
    "\n",
    "plt.rc('font', size=16)\n",
    "sns.set_style('white')\n",
    "#define a custom palette \n",
    "customPalette = ['#630C3A', '#39C8C6', '#D3500C', '#FFB139']\n",
    "sns.set_palette(customPalette)\n",
    "sns.palplot(customPalette)"
   ]
  },
  {
   "cell_type": "code",
   "execution_count": 125,
   "metadata": {},
   "outputs": [
    {
     "name": "stdout",
     "output_type": "stream",
     "text": [
      "[1.61355055e+00 9.82787045e-01 1.72661360e-02 3.62773218e+00\n",
      " 2.95096701e+01 2.04518622e+00]\n"
     ]
    }
   ],
   "source": [
    "n= 50\n",
    "\n",
    "print(kproto.cluster_centroids_[0][0])"
   ]
  },
  {
   "cell_type": "code",
   "execution_count": null,
   "metadata": {},
   "outputs": [],
   "source": [
    "n = 5\n",
    "\n",
    "groups = { 'A': ()}"
   ]
  }
 ],
 "metadata": {
  "kernelspec": {
   "display_name": "Python 3",
   "language": "python",
   "name": "python3"
  },
  "language_info": {
   "codemirror_mode": {
    "name": "ipython",
    "version": 3
   },
   "file_extension": ".py",
   "mimetype": "text/x-python",
   "name": "python",
   "nbconvert_exporter": "python",
   "pygments_lexer": "ipython3",
   "version": "3.7.4"
  }
 },
 "nbformat": 4,
 "nbformat_minor": 2
}
